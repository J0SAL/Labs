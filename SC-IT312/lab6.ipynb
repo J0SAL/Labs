{
  "nbformat": 4,
  "nbformat_minor": 0,
  "metadata": {
    "colab": {
      "name": "lab6.ipynb",
      "provenance": [],
      "authorship_tag": "ABX9TyNbThO/mpasflE2yhRLZ4cX",
      "include_colab_link": true
    },
    "kernelspec": {
      "name": "python3",
      "display_name": "Python 3"
    },
    "language_info": {
      "name": "python"
    }
  },
  "cells": [
    {
      "cell_type": "markdown",
      "metadata": {
        "id": "view-in-github",
        "colab_type": "text"
      },
      "source": [
        "<a href=\"https://colab.research.google.com/github/J0SAL/Labs/blob/main/SC-IT312/lab6.ipynb\" target=\"_parent\"><img src=\"https://colab.research.google.com/assets/colab-badge.svg\" alt=\"Open In Colab\"/></a>"
      ]
    },
    {
      "cell_type": "code",
      "execution_count": 2,
      "metadata": {
        "colab": {
          "base_uri": "https://localhost:8080/"
        },
        "id": "Ka1UNO5Rlz2h",
        "outputId": "964c568f-f17b-4f50-fc3c-c7ed3085cb30"
      },
      "outputs": [
        {
          "output_type": "stream",
          "name": "stdout",
          "text": [
            "Python 3.7.12\n"
          ]
        }
      ],
      "source": [
        "!python --version"
      ]
    },
    {
      "cell_type": "code",
      "source": [
        "import math"
      ],
      "metadata": {
        "id": "TLt7Fia7l7HK"
      },
      "execution_count": 3,
      "outputs": []
    },
    {
      "cell_type": "code",
      "source": [
        "class KSOFM:\n",
        "\t# Calculate winning vector by Euclidean distance\n",
        "\tdef winner(self, weights, sample):\n",
        "\t\tD0 = 0\n",
        "\t\tD1 = 0\n",
        "\t\tfor i in range(len(sample)):\n",
        "\t\t\tD0 = D0 + math.pow((sample[i] - weights[0][i]), 2)\n",
        "\t\t\tD1 = D1 + math.pow((sample[i] - weights[1][i]), 2)\n",
        "\t\t\tif D0 > D1:\n",
        "\t\t\t\treturn 0\n",
        "\t\t\telse:\n",
        "\t\t\t\treturn 1\n",
        "\n",
        "\t# update the winning vector\n",
        "\tdef update(self, weights, sample, J, alpha):\n",
        "\n",
        "\t\tfor i in range(len(weights)):\n",
        "\t\t\tweights[J][i] = weights[J][i] + alpha * (sample[i] - weights[J][i])\n",
        "\n",
        "\t\treturn weights"
      ],
      "metadata": {
        "id": "idOe7ObjmKMP"
      },
      "execution_count": 4,
      "outputs": []
    },
    {
      "cell_type": "code",
      "source": [
        "# Training Examples ( m, n )\n",
        "# T = [[1, 1, 0, 0], [0, 0, 0, 1], [1, 0, 0, 0], [0, 0, 1, 1]]\n",
        "T = [[0,0, 1,1], [1,0,0,0],[0,1,1,0], [0,0,0,1]]\n",
        "\n",
        "m, n = len(T), len(T[0])\n",
        "\n",
        "# weight initialization ( n, C )\n",
        "weights = [[0.2, 0.6, 0.5, 0.9], [0.8, 0.4, 0.7, 0.3]]\n",
        "\n",
        "# training\n",
        "ob = KSOFM()\n",
        "\n",
        "epochs = 3\n",
        "alpha = 0.5\n",
        "\n",
        "for i in range(epochs):\n",
        "  for j in range(m):\n",
        "\n",
        "    # training sample\n",
        "    sample = T[j]\n",
        "\n",
        "    # Compute winner vector\n",
        "    J = ob.winner(weights, sample)\n",
        "\n",
        "    # Update winning vector\n",
        "    weights = ob.update(weights, sample, J, alpha)\n",
        "\n",
        "print(\"Trained weights : \", weights)\n"
      ],
      "metadata": {
        "colab": {
          "base_uri": "https://localhost:8080/"
        },
        "id": "K0Evi_fAmB1I",
        "outputId": "b36c3462-44f7-48ef-b8e3-971eb18e1a41"
      },
      "execution_count": 8,
      "outputs": [
        {
          "output_type": "stream",
          "name": "stdout",
          "text": [
            "Trained weights :  [[0.14375, 0.290625, 0.5, 0.9], [0.1375, 0.25625, 0.7, 0.3]]\n"
          ]
        }
      ]
    },
    {
      "cell_type": "code",
      "source": [
        "# Test sample\n",
        "s = [0, 0, 0, 1]\n",
        "J = ob.winner(weights, s)\n",
        "\n",
        "print(\"Test Sample s belongs to Cluster : \", J)\n"
      ],
      "metadata": {
        "colab": {
          "base_uri": "https://localhost:8080/"
        },
        "id": "-h_660tgplWV",
        "outputId": "af79f0f2-85ec-4862-ecc2-b72e3526b80d"
      },
      "execution_count": 9,
      "outputs": [
        {
          "output_type": "stream",
          "name": "stdout",
          "text": [
            "Test Sample s belongs to Cluster :  0\n"
          ]
        }
      ]
    },
    {
      "cell_type": "code",
      "source": [
        ""
      ],
      "metadata": {
        "id": "QxgbhnaPpRVY"
      },
      "execution_count": null,
      "outputs": []
    }
  ]
}