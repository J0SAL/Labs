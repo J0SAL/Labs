{
  "nbformat": 4,
  "nbformat_minor": 0,
  "metadata": {
    "colab": {
      "name": "lab6.ipynb",
      "provenance": [],
      "authorship_tag": "ABX9TyPW7MisWy29wveeeZyGtDYh",
      "include_colab_link": true
    },
    "kernelspec": {
      "name": "python3",
      "display_name": "Python 3"
    },
    "language_info": {
      "name": "python"
    }
  },
  "cells": [
    {
      "cell_type": "markdown",
      "metadata": {
        "id": "view-in-github",
        "colab_type": "text"
      },
      "source": [
        "<a href=\"https://colab.research.google.com/github/J0SAL/Labs/blob/main/SC-IT312/lab6.ipynb\" target=\"_parent\"><img src=\"https://colab.research.google.com/assets/colab-badge.svg\" alt=\"Open In Colab\"/></a>"
      ]
    },
    {
      "cell_type": "code",
      "execution_count": 1,
      "metadata": {
        "colab": {
          "base_uri": "https://localhost:8080/"
        },
        "id": "Ka1UNO5Rlz2h",
        "outputId": "089959e3-e151-4bf3-d0c0-8ace75f9242d"
      },
      "outputs": [
        {
          "output_type": "stream",
          "name": "stdout",
          "text": [
            "Python 3.7.12\n"
          ]
        }
      ],
      "source": [
        "!python --version"
      ]
    },
    {
      "cell_type": "code",
      "source": [
        "import math"
      ],
      "metadata": {
        "id": "TLt7Fia7l7HK"
      },
      "execution_count": 2,
      "outputs": []
    },
    {
      "cell_type": "code",
      "source": [
        "class KSOFM:\n",
        "\t# Calculate winning vector by Euclidean distance\n",
        "\tdef winner(self, weights, sample):\n",
        "\t\tD0 = 0\n",
        "\t\tD1 = 0\n",
        "\t\tfor i in range(len(sample)):\n",
        "\t\t\tD0 = D0 + math.pow((weights[0][i] - sample[i] ), 2)\n",
        "\t\t\tD1 = D1 + math.pow((weights[1][i] - sample[i] ), 2)\n",
        "\t\tprint(\"D0 \", D0, \" | D1: \", D1)\t \n",
        "\t\tif D0 < D1:\n",
        "\t\t\treturn 0\n",
        "\t\telse:\n",
        "\t\t\treturn 1\n",
        "\n",
        "\t# update the winning vector\n",
        "\tdef update(self, weights, sample, J, alpha):\n",
        "\t\tfor i in range(len(weights[J])):\n",
        "\t\t\tweights[J][i] = weights[J][i] + alpha * (sample[i] - weights[J][i])\n",
        "\n",
        "\t\treturn weights"
      ],
      "metadata": {
        "id": "idOe7ObjmKMP"
      },
      "execution_count": 39,
      "outputs": []
    },
    {
      "cell_type": "code",
      "source": [
        "# Training Examples ( m, n \n",
        "T = [[0,0, 1,1], [1,0,0,0],[0,1,1,0], [0,0,0,1]]\n",
        "\n",
        "m, n = len(T), 2\n",
        "\n",
        "# weight initialization ( n, C )\n",
        "\n",
        "weights = [[0.2, 0.4, 0.6, 0.8], [0.9, 0.7, 0.5, 0.3]]\n",
        "\n",
        "# training\n",
        "ob = KSOFM()\n",
        "\n",
        "epochs = 1\n",
        "alpha = 0.5\n",
        "\n",
        "for i in range(epochs):\n",
        "  print(\" ---  Epoch \",i, \" ---- \")\n",
        "  for j in range(m):\n",
        "\n",
        "    # training sample\n",
        "    sample = T[j]\n",
        "\n",
        "    # Compute winner vector\n",
        "    J = ob.winner(weights, sample) \n",
        "    print(\"winning cluster for \", sample, \" - \", J)\n",
        "    # Update winning vector\n",
        "    weights = ob.update(weights, sample, J, alpha)\n",
        "    print(\"updated weights : \", weights)\n",
        "    print()\n",
        "\n",
        "print(\"Trained weights : \", weights)\n"
      ],
      "metadata": {
        "colab": {
          "base_uri": "https://localhost:8080/"
        },
        "id": "K0Evi_fAmB1I",
        "outputId": "1a993b10-2058-4743-83a3-62fc3e57c028"
      },
      "execution_count": 41,
      "outputs": [
        {
          "output_type": "stream",
          "name": "stdout",
          "text": [
            " ---  Epoch  0  ---- \n",
            "D0  0.4000000000000001  | D1:  2.04\n",
            "winning cluster for  [0, 0, 1, 1]  -  0\n",
            "updated weights :  [[0.1, 0.2, 0.8, 0.9], [0.9, 0.7, 0.5, 0.3]]\n",
            "\n",
            "D0  2.3000000000000003  | D1:  0.84\n",
            "winning cluster for  [1, 0, 0, 0]  -  1\n",
            "updated weights :  [[0.1, 0.2, 0.8, 0.9], [0.95, 0.35, 0.25, 0.15]]\n",
            "\n",
            "D0  1.5000000000000002  | D1:  1.91\n",
            "winning cluster for  [0, 1, 1, 0]  -  0\n",
            "updated weights :  [[0.05, 0.6000000000000001, 0.9, 0.45], [0.95, 0.35, 0.25, 0.15]]\n",
            "\n",
            "D0  1.475  | D1:  1.8099999999999998\n",
            "winning cluster for  [0, 0, 0, 1]  -  0\n",
            "updated weights :  [[0.025, 0.30000000000000004, 0.45, 0.7250000000000001], [0.95, 0.35, 0.25, 0.15]]\n",
            "\n",
            "Trained weights :  [[0.025, 0.30000000000000004, 0.45, 0.7250000000000001], [0.95, 0.35, 0.25, 0.15]]\n"
          ]
        }
      ]
    },
    {
      "cell_type": "code",
      "source": [
        "# Test sample\n",
        "s = [0, 0, 0, 1]\n",
        "J = ob.winner(weights, s)\n",
        "\n",
        "print(\"Test Sample s belongs to Cluster : \", J)\n"
      ],
      "metadata": {
        "colab": {
          "base_uri": "https://localhost:8080/"
        },
        "id": "-h_660tgplWV",
        "outputId": "ccfbba41-ff2d-4225-a503-dd7308a8a6f2"
      },
      "execution_count": 42,
      "outputs": [
        {
          "output_type": "stream",
          "name": "stdout",
          "text": [
            "D0  0.36874999999999997  | D1:  1.8099999999999998\n",
            "Test Sample s belongs to Cluster :  0\n"
          ]
        }
      ]
    },
    {
      "cell_type": "code",
      "source": [
        ""
      ],
      "metadata": {
        "id": "QxgbhnaPpRVY"
      },
      "execution_count": 5,
      "outputs": []
    }
  ]
}