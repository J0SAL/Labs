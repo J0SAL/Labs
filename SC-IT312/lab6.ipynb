{
  "nbformat": 4,
  "nbformat_minor": 0,
  "metadata": {
    "colab": {
      "name": "lab6.ipynb",
      "provenance": [],
      "authorship_tag": "ABX9TyNDxuAAFkGHPojXDlXFV8B7",
      "include_colab_link": true
    },
    "kernelspec": {
      "name": "python3",
      "display_name": "Python 3"
    },
    "language_info": {
      "name": "python"
    }
  },
  "cells": [
    {
      "cell_type": "markdown",
      "metadata": {
        "id": "view-in-github",
        "colab_type": "text"
      },
      "source": [
        "<a href=\"https://colab.research.google.com/github/J0SAL/Labs/blob/main/SC-IT312/lab6.ipynb\" target=\"_parent\"><img src=\"https://colab.research.google.com/assets/colab-badge.svg\" alt=\"Open In Colab\"/></a>"
      ]
    },
    {
      "cell_type": "code",
      "execution_count": 28,
      "metadata": {
        "colab": {
          "base_uri": "https://localhost:8080/"
        },
        "id": "Ka1UNO5Rlz2h",
        "outputId": "622b293b-bac7-4d9e-884e-f85ad55f10ba"
      },
      "outputs": [
        {
          "output_type": "stream",
          "name": "stdout",
          "text": [
            "Python 3.7.12\n"
          ]
        }
      ],
      "source": [
        "!python --version"
      ]
    },
    {
      "cell_type": "code",
      "source": [
        "import math"
      ],
      "metadata": {
        "id": "TLt7Fia7l7HK"
      },
      "execution_count": 29,
      "outputs": []
    },
    {
      "cell_type": "code",
      "source": [
        "class KSOFM:\n",
        "\t# Calculate winning vector by Euclidean distance\n",
        "\tdef winner(self, weights, sample):\n",
        "\t\tD0 = 0\n",
        "\t\tD1 = 0\n",
        "\t\tfor i in range(len(sample)):\n",
        "\t\t\tD0 = D0 + math.pow((weights[0][i] - sample[i] ), 2)\n",
        "\t\t\tD1 = D1 + math.pow((weights[1][i] - sample[i] ), 2)\n",
        "\t\tprint(\"\\nD0 \", D0, \" | D1: \", D1)\t \n",
        "\t\tif D0 < D1:\n",
        "\t\t\treturn 0\n",
        "\t\telse:\n",
        "\t\t\treturn 1\n",
        "\n",
        "\t# update the winning vector\n",
        "\tdef update(self, weights, sample, J, alpha):\n",
        "\t\tfor i in range(len(weights[J])):\n",
        "\t\t\tweights[J][i] = weights[J][i] + alpha * (sample[i] - weights[J][i])\n",
        "\n",
        "\t\treturn weights"
      ],
      "metadata": {
        "id": "idOe7ObjmKMP"
      },
      "execution_count": 30,
      "outputs": []
    },
    {
      "cell_type": "code",
      "source": [
        "def myFun(T, m, n, weights, ob, epochs, alpha):\n",
        "  print(\"initial W1: \", weights[0])\n",
        "  print(\"initial W2: \", weights[1])\n",
        "  for i in range(epochs):\n",
        "    print(\" ---  Epoch \",i, \" ---- \")\n",
        "    for j in range(m):\n",
        "\n",
        "      # training sample\n",
        "      sample = T[j]\n",
        "\n",
        "      # Compute winner vector\n",
        "      J = ob.winner(weights, sample) \n",
        "      print(\"winning cluster for \", sample, \" - D{}\".format(J))\n",
        "      # Update winning vector\n",
        "      weights = ob.update(weights, sample, J, alpha)\n",
        "      print(\"updated weights : \", weights)\n",
        "      print()\n",
        "    alpha = 0.5*alpha\n",
        "  print(\"final W1: \", weights[0])\n",
        "  print(\"final W2: \", weights[1])\n",
        "  print(\"final Alpha : \", alpha)"
      ],
      "metadata": {
        "id": "9hex2CLT6eNc"
      },
      "execution_count": 31,
      "outputs": []
    },
    {
      "cell_type": "markdown",
      "source": [
        "# TextBook pg- 202 - principles of soft computing"
      ],
      "metadata": {
        "id": "lIynZ0Ei-2xB"
      }
    },
    {
      "cell_type": "code",
      "source": [
        "T = [[0,0, 1,1], [1,0,0,0],[0,1,1,0], [0,0,0,1]]\n",
        "m, n = len(T), 2\n",
        "weights = [[0.2, 0.4, 0.6, 0.8], [0.9, 0.7, 0.5, 0.3]]\n",
        "ob = KSOFM()\n",
        "epochs = 1\n",
        "alpha = 0.5\n",
        "myFun(T, m, n, weights, ob, epochs, alpha)"
      ],
      "metadata": {
        "id": "x678gOOU5yMq",
        "outputId": "76664576-ad00-4fe9-d6d8-3a0a67a7b649",
        "colab": {
          "base_uri": "https://localhost:8080/"
        }
      },
      "execution_count": 35,
      "outputs": [
        {
          "output_type": "stream",
          "name": "stdout",
          "text": [
            "initial W1:  [0.2, 0.4, 0.6, 0.8]\n",
            "initial W2:  [0.9, 0.7, 0.5, 0.3]\n",
            " ---  Epoch  0  ---- \n",
            "\n",
            "D0  0.4000000000000001  | D1:  2.04\n",
            "winning cluster for  [0, 0, 1, 1]  - D0\n",
            "updated weights :  [[0.1, 0.2, 0.8, 0.9], [0.9, 0.7, 0.5, 0.3]]\n",
            "\n",
            "\n",
            "D0  2.3000000000000003  | D1:  0.84\n",
            "winning cluster for  [1, 0, 0, 0]  - D1\n",
            "updated weights :  [[0.1, 0.2, 0.8, 0.9], [0.95, 0.35, 0.25, 0.15]]\n",
            "\n",
            "\n",
            "D0  1.5000000000000002  | D1:  1.91\n",
            "winning cluster for  [0, 1, 1, 0]  - D0\n",
            "updated weights :  [[0.05, 0.6000000000000001, 0.9, 0.45], [0.95, 0.35, 0.25, 0.15]]\n",
            "\n",
            "\n",
            "D0  1.475  | D1:  1.8099999999999998\n",
            "winning cluster for  [0, 0, 0, 1]  - D0\n",
            "updated weights :  [[0.025, 0.30000000000000004, 0.45, 0.7250000000000001], [0.95, 0.35, 0.25, 0.15]]\n",
            "\n",
            "final W1:  [0.025, 0.30000000000000004, 0.45, 0.7250000000000001]\n",
            "final W2:  [0.95, 0.35, 0.25, 0.15]\n",
            "final Alpha :  0.25\n"
          ]
        }
      ]
    },
    {
      "cell_type": "code",
      "source": [
        "# Test sample\n",
        "s = [0, 0, 0, 1]\n",
        "J = ob.winner(weights, s)\n",
        "\n",
        "print(\"Test Sample s belongs to Cluster : D{}\".format(J))\n"
      ],
      "metadata": {
        "colab": {
          "base_uri": "https://localhost:8080/"
        },
        "id": "-h_660tgplWV",
        "outputId": "7eba6cb5-19c4-4e2c-c5c4-cb73bbf17d8f"
      },
      "execution_count": 33,
      "outputs": [
        {
          "output_type": "stream",
          "name": "stdout",
          "text": [
            "\n",
            "D0  0.36874999999999997  | D1:  1.8099999999999998\n",
            "Test Sample s belongs to Cluster : D0\n"
          ]
        }
      ]
    },
    {
      "cell_type": "markdown",
      "source": [
        "# Custom Example"
      ],
      "metadata": {
        "id": "QvPhKyRj7EsZ"
      }
    },
    {
      "cell_type": "code",
      "source": [
        "#custom example\n",
        "T = [[0.999,0.191, 0.029,0.834], [0.0283,0.28,0,0],[0.099,-0.9,0.5,0.2553], [0.937,0.93,0.92,0.052]]\n",
        "m, n = len(T), 2\n",
        "\n",
        "weights = [[0.1, 0.22, 0.333, 0.444], [0.13, 0.123, 0.96, 0.12]]\n",
        "# training\n",
        "ob1 = KSOFM()\n",
        "epochs = 1\n",
        "alpha = 0.522\n",
        "myFun(T, m, n, weights, ob1, epochs, alpha)"
      ],
      "metadata": {
        "id": "JGAh8N1H6_hK",
        "outputId": "55b81f75-3212-4af8-eb4d-0c4c1456420b",
        "colab": {
          "base_uri": "https://localhost:8080/"
        }
      },
      "execution_count": 34,
      "outputs": [
        {
          "output_type": "stream",
          "name": "stdout",
          "text": [
            "initial W1:  [0.1, 0.22, 0.333, 0.444]\n",
            "initial W2:  [0.13, 0.123, 0.96, 0.12]\n",
            " ---  Epoch  0  ---- \n",
            "\n",
            "D0  1.053558  | D1:  2.136342\n",
            "winning cluster for  [0.999, 0.191, 0.029, 0.834]  - D0\n",
            "updated weights :  [[0.5692780000000001, 0.204862, 0.17431200000000002, 0.64758], [0.13, 0.123, 0.96, 0.12]]\n",
            "\n",
            "\n",
            "D0  0.7480474452720002  | D1:  0.97099189\n",
            "winning cluster for  [0.0283, 0.28, 0, 0]  - D0\n",
            "updated weights :  [[0.286887484, 0.244084036, 0.083321136, 0.30954324], [0.13, 0.123, 0.96, 0.12]]\n",
            "\n",
            "\n",
            "D0  1.5207935928639276  | D1:  1.2773960900000003\n",
            "winning cluster for  [0.099, -0.9, 0.5, 0.2553]  - D1\n",
            "updated weights :  [[0.286887484, 0.244084036, 0.083321136, 0.30954324], [0.113818, -0.4110060000000001, 0.71988, 0.19062660000000003]]\n",
            "\n",
            "\n",
            "D0  1.659487035063928  | D1:  2.5351910457875606\n",
            "winning cluster for  [0.937, 0.93, 0.92, 0.052]  - D0\n",
            "updated weights :  [[0.626246217352, 0.6021321692080001, 0.520067503008, 0.17510566872], [0.113818, -0.4110060000000001, 0.71988, 0.19062660000000003]]\n",
            "\n",
            "final W1:  [0.626246217352, 0.6021321692080001, 0.520067503008, 0.17510566872]\n",
            "final W2:  [0.113818, -0.4110060000000001, 0.71988, 0.19062660000000003]\n",
            "final Alpha :  0.261\n"
          ]
        }
      ]
    }
  ]
}