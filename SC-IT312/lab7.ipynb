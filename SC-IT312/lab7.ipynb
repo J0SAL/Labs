{
  "cells": [
    {
      "cell_type": "markdown",
      "metadata": {
        "id": "view-in-github",
        "colab_type": "text"
      },
      "source": [
        "<a href=\"https://colab.research.google.com/github/J0SAL/Labs/blob/main/SC-IT312/lab7.ipynb\" target=\"_parent\"><img src=\"https://colab.research.google.com/assets/colab-badge.svg\" alt=\"Open In Colab\"/></a>"
      ]
    },
    {
      "cell_type": "code",
      "source": [
        "!python --version"
      ],
      "metadata": {
        "colab": {
          "base_uri": "https://localhost:8080/"
        },
        "id": "u6S8Lgn7lvQj",
        "outputId": "5e5001d8-1eb7-4647-cab0-99e3ebdbbf95"
      },
      "execution_count": 50,
      "outputs": [
        {
          "output_type": "stream",
          "name": "stdout",
          "text": [
            "Python 3.7.13\n"
          ]
        }
      ]
    },
    {
      "cell_type": "code",
      "source": [
        "import math"
      ],
      "metadata": {
        "id": "7xOonpqRl0pl"
      },
      "execution_count": 51,
      "outputs": []
    },
    {
      "cell_type": "code",
      "execution_count": 56,
      "metadata": {
        "id": "kw8hUBsIVbXX"
      },
      "outputs": [],
      "source": [
        "class LVQ:\n",
        "    \n",
        "    # Function here computes the winning vector\n",
        "    # by Euclidean distance\n",
        "    def winner(self, weights, sample, alpha):\n",
        "        \n",
        "        D0 = 0\n",
        "        D1 = 0\n",
        "        \n",
        "        for i in range(len(sample)):\n",
        "            D0 = D0 + math.pow((sample[i] - weights[0][i]), 2)\n",
        "            D1 = D1 + math.pow((sample[i] - weights[1][i]), 2)\n",
        "        \n",
        "        print(\"D0: \", D0)\n",
        "        print(\"D1: \", D1)\n",
        "        if D0 < D1:\n",
        "            print(\"Winner: D0 \", D0)\n",
        "            for i in range(len(weights)):\n",
        "                weights[0][i] = weights[0][i] + alpha * (sample[i] - weights[0][i])\n",
        "        else:\n",
        "            print(\"Winner: D1 \", D1)\n",
        "            for i in range(len(weights)):\n",
        "                weights[1][i] = weights[1][i] - alpha * (sample[i] - weights[1][i])\n",
        "\n",
        "        return min(D0, D1)    "
      ]
    },
    {
      "cell_type": "code",
      "source": [
        "# Driver code\n",
        "X = [[ 0, 0, 1, 1 ], [ 1, 0, 0, 0 ], [ 0, 0, 0, 1 ], [ 1, 1, 0, 0 ], [ 0, 1, 1, 0 ]]\n",
        "classes = [1, 2, 2, 1, 1]\n",
        "m, n = len( X ), len( X[0] )\n",
        "\n",
        "# weight initialization ( n, c )\n",
        "weights = []\n",
        "weights.append( X.pop( 0 ) )\n",
        "weights.append( X.pop( 0 ) )\n",
        "\n",
        "m = m - 2\n",
        "# training\n",
        "ob = LVQ()\n",
        "epochs = 1\n",
        "alpha = 0.1\n",
        "print(\"Input Vectors: \", X);\n",
        "print(\"Initial Weights: \", weights)\n",
        "for i in range( epochs ) :\n",
        "    for j in range( m ) :\n",
        "        # Sample selection\n",
        "        sample = X[j]\n",
        "        print(\"\\nCurr Sample \",sample)\n",
        "        # Compute winner\n",
        "        J = ob.winner(weights, sample, alpha)\n",
        "        print(\"Updated Weights: \", weights)\n",
        "\n",
        "print( \"\\nFinal weights : \", weights )\n"
      ],
      "metadata": {
        "colab": {
          "base_uri": "https://localhost:8080/"
        },
        "id": "krdQUDkIiD8F",
        "outputId": "94813b3f-5b42-4ba4-a3d7-3f2dac290de9"
      },
      "execution_count": 57,
      "outputs": [
        {
          "output_type": "stream",
          "name": "stdout",
          "text": [
            "Input Vectors:  [[0, 0, 0, 1], [1, 1, 0, 0], [0, 1, 1, 0]]\n",
            "Initial Weights:  [[0, 0, 1, 1], [1, 0, 0, 0]]\n",
            "\n",
            "Curr Sample  [0, 0, 0, 1]\n",
            "D0:  1.0\n",
            "D1:  2.0\n",
            "Winner: D0  1.0\n",
            "Updated Weights:  [[0.0, 0.0, 1, 1], [1, 0, 0, 0]]\n",
            "\n",
            "Curr Sample  [1, 1, 0, 0]\n",
            "D0:  4.0\n",
            "D1:  1.0\n",
            "Winner: D1  1.0\n",
            "Updated Weights:  [[0.0, 0.0, 1, 1], [1.0, -0.1, 0, 0]]\n",
            "\n",
            "Curr Sample  [0, 1, 1, 0]\n",
            "D0:  2.0\n",
            "D1:  3.21\n",
            "Winner: D0  2.0\n",
            "Updated Weights:  [[0.0, 0.1, 1, 1], [1.0, -0.1, 0, 0]]\n",
            "\n",
            "Final weights :  [[0.0, 0.1, 1, 1], [1.0, -0.1, 0, 0]]\n"
          ]
        }
      ]
    },
    {
      "cell_type": "code",
      "source": [
        "#testing\n",
        "ob.winner(weights, [0,0,1,1], alpha)\n"
      ],
      "metadata": {
        "colab": {
          "base_uri": "https://localhost:8080/"
        },
        "id": "J9lPa27XkTZh",
        "outputId": "7ebdc7bf-885a-40a7-d657-c24e62208086"
      },
      "execution_count": 60,
      "outputs": [
        {
          "output_type": "stream",
          "name": "stdout",
          "text": [
            "D0:  0.02989441\n",
            "D1:  3.048841\n",
            "Winner: D0  0.02989441\n"
          ]
        },
        {
          "output_type": "execute_result",
          "data": {
            "text/plain": [
              "0.02989441"
            ]
          },
          "metadata": {},
          "execution_count": 60
        }
      ]
    }
  ],
  "metadata": {
    "colab": {
      "collapsed_sections": [],
      "name": "lab7.ipynb",
      "provenance": [],
      "include_colab_link": true
    },
    "kernelspec": {
      "display_name": "Python 3",
      "name": "python3"
    },
    "language_info": {
      "name": "python"
    }
  },
  "nbformat": 4,
  "nbformat_minor": 0
}