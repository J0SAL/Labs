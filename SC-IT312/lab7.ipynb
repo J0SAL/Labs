{
  "cells": [
    {
      "cell_type": "markdown",
      "metadata": {
        "id": "view-in-github",
        "colab_type": "text"
      },
      "source": [
        "<a href=\"https://colab.research.google.com/github/J0SAL/Labs/blob/main/SC-IT312/lab7.ipynb\" target=\"_parent\"><img src=\"https://colab.research.google.com/assets/colab-badge.svg\" alt=\"Open In Colab\"/></a>"
      ]
    },
    {
      "cell_type": "code",
      "source": [
        "!python --version"
      ],
      "metadata": {
        "colab": {
          "base_uri": "https://localhost:8080/"
        },
        "id": "u6S8Lgn7lvQj",
        "outputId": "4fbbfccf-21ed-4174-e85b-cb5e6a614b80"
      },
      "execution_count": 83,
      "outputs": [
        {
          "output_type": "stream",
          "name": "stdout",
          "text": [
            "Python 3.7.13\n"
          ]
        }
      ]
    },
    {
      "cell_type": "code",
      "source": [
        "import math"
      ],
      "metadata": {
        "id": "7xOonpqRl0pl"
      },
      "execution_count": 84,
      "outputs": []
    },
    {
      "cell_type": "code",
      "source": [
        "class LVQ :\n",
        "      \n",
        "    # Function here computes the winning vector\n",
        "    # by Euclidean distance\n",
        "    def winner( self, weights, sample ) :\n",
        "        D0 = 0\n",
        "        D1 = 0\n",
        "        for i  in range( len( sample ) ) :\n",
        "            D0 = D0 + math.pow( ( sample[i] - weights[0][i] ), 2 )\n",
        "            D1 = D1 + math.pow( ( sample[i] - weights[1][i] ), 2 )\n",
        "        print(\"D0: \", D0)\n",
        "        print(\"D1: \", D1)\n",
        "        if D0 < D1 :\n",
        "            return 0\n",
        "        else : \n",
        "            return 1\n",
        "  \n",
        "    # Function here updates the winning vector     \n",
        "    def update_neg( self, weights, sample, J, alpha ) :\n",
        "        for i in range(len(weights[J])) :\n",
        "            weights[J][i] = weights[J][i] - alpha * ( sample[i] - weights[J][i] ) \n",
        "            \n",
        "    def update_pos( self, weights, sample, J, alpha ) :\n",
        "        for i in range(len(weights[J])) :\n",
        "            weights[J][i] = weights[J][i] + alpha * ( sample[i] - weights[J][i] ) "
      ],
      "metadata": {
        "id": "dlH26Ums-ACd"
      },
      "execution_count": 85,
      "outputs": []
    },
    {
      "cell_type": "code",
      "source": [
        "def my_fun(X, Y, ob, epochs, alpha) :\n",
        "\n",
        "    m, n = len( X ), len( X[0] )\n",
        "    # weight initialization ( n, c )\n",
        "    weights = []\n",
        "    weights.append( X.pop( 0 ) )\n",
        "    weights.append( X.pop( 0 ) )\n",
        "  \n",
        "    m = m - 2\n",
        "      \n",
        "    for i in range( epochs ) :\n",
        "        for j in range( m ) :\n",
        "              \n",
        "            # Sample selection\n",
        "            sample = X[j]\n",
        "            print(\"\\nCurr Sample: \", sample)\n",
        "            # Compute winner\n",
        "            J = ob.winner( weights, sample )\n",
        "            T = Y[2+j];\n",
        "            print(\"Winner : W {}\".format(J))\n",
        "            print(\"T: \", T)\n",
        "\n",
        "            # Update weights\n",
        "            if(T == J):\n",
        "              ob.update_pos(weights, sample, J, alpha )\n",
        "            else:\n",
        "              ob.update_neg(weights, sample, J, alpha)\n",
        "            print(\"updated weights: \", weights)\n",
        "    \n",
        "    return weights\n",
        "              \n"
      ],
      "metadata": {
        "id": "8KoQQPQ6-Iii"
      },
      "execution_count": 90,
      "outputs": []
    },
    {
      "cell_type": "markdown",
      "source": [
        "principle of softcomputing, Text book page 207, example 6"
      ],
      "metadata": {
        "id": "CV4Vz2SNIHNU"
      }
    },
    {
      "cell_type": "code",
      "source": [
        "X = [[ 0, 0, 1, 1 ], [ 1, 0, 0, 0 ], [ 0, 0, 0, 1 ], [ 1, 1, 0, 0 ], [ 0, 1, 1, 0 ]]\n",
        "Y = [0, 1, 1, 0, 0]\n",
        "epochs = 1\n",
        "alpha = 0.1\n",
        "ob1 = LVQ()\n",
        "weights = my_fun(X, Y, ob1, epochs, alpha)\n",
        "print(\"Final Weights: \", weights)"
      ],
      "metadata": {
        "id": "DwOJrao3Ihp_",
        "outputId": "e8451042-3ba4-4c16-e4a7-3d407068c22a",
        "colab": {
          "base_uri": "https://localhost:8080/"
        }
      },
      "execution_count": 91,
      "outputs": [
        {
          "output_type": "stream",
          "name": "stdout",
          "text": [
            "\n",
            "Curr Sample:  [0, 0, 0, 1]\n",
            "D0:  1.0\n",
            "D1:  2.0\n",
            "Winner : W 0\n",
            "T:  1\n",
            "updated weights:  [[0.0, 0.0, 1.1, 1.0], [1, 0, 0, 0]]\n",
            "\n",
            "Curr Sample:  [1, 1, 0, 0]\n",
            "D0:  4.21\n",
            "D1:  1.0\n",
            "Winner : W 1\n",
            "T:  0\n",
            "updated weights:  [[0.0, 0.0, 1.1, 1.0], [1.0, -0.1, 0.0, 0.0]]\n",
            "\n",
            "Curr Sample:  [0, 1, 1, 0]\n",
            "D0:  2.01\n",
            "D1:  3.21\n",
            "Winner : W 0\n",
            "T:  0\n",
            "updated weights:  [[0.0, 0.1, 1.09, 0.9], [1.0, -0.1, 0.0, 0.0]]\n",
            "Final Weights:  [[0.0, 0.1, 1.09, 0.9], [1.0, -0.1, 0.0, 0.0]]\n"
          ]
        }
      ]
    },
    {
      "cell_type": "code",
      "source": [
        "T = [ 0, 0, 1, 0 ]\n",
        "J = ob1.winner( weights, T )\n",
        "print( \"Sample T belongs to class : \", J )"
      ],
      "metadata": {
        "id": "Cv3FzbghKSkn",
        "outputId": "d9e189d7-df93-4dfe-84f0-d178422e94ae",
        "colab": {
          "base_uri": "https://localhost:8080/"
        }
      },
      "execution_count": 92,
      "outputs": [
        {
          "output_type": "stream",
          "name": "stdout",
          "text": [
            "D0:  0.8281000000000001\n",
            "D1:  2.01\n",
            "Sample T belongs to class :  0\n"
          ]
        }
      ]
    }
  ],
  "metadata": {
    "colab": {
      "collapsed_sections": [],
      "name": "lab7.ipynb",
      "provenance": [],
      "include_colab_link": true
    },
    "kernelspec": {
      "display_name": "Python 3",
      "name": "python3"
    },
    "language_info": {
      "name": "python"
    }
  },
  "nbformat": 4,
  "nbformat_minor": 0
}