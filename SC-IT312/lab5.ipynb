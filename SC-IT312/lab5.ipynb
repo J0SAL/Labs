{
  "cells": [
    {
      "cell_type": "markdown",
      "metadata": {
        "id": "view-in-github",
        "colab_type": "text"
      },
      "source": [
        "<a href=\"https://colab.research.google.com/github/J0SAL/Labs/blob/main/SC-IT312/lab5.ipynb\" target=\"_parent\"><img src=\"https://colab.research.google.com/assets/colab-badge.svg\" alt=\"Open In Colab\"/></a>"
      ]
    },
    {
      "cell_type": "code",
      "source": [
        "!python --version"
      ],
      "metadata": {
        "colab": {
          "base_uri": "https://localhost:8080/"
        },
        "id": "VynMHh8qaD58",
        "outputId": "b4e7d303-9851-4857-97cf-80c593031192"
      },
      "id": "VynMHh8qaD58",
      "execution_count": 94,
      "outputs": [
        {
          "output_type": "stream",
          "name": "stdout",
          "text": [
            "Python 3.7.12\n"
          ]
        }
      ]
    },
    {
      "cell_type": "code",
      "execution_count": 95,
      "id": "a75798a5-f28c-4787-b348-4b5ba2f424a6",
      "metadata": {
        "id": "a75798a5-f28c-4787-b348-4b5ba2f424a6"
      },
      "outputs": [],
      "source": [
        "import numpy as np \n",
        "import matplotlib.pyplot as plt"
      ]
    },
    {
      "cell_type": "code",
      "execution_count": 96,
      "id": "12a3097b-7268-4f13-bd12-d3456baa7dca",
      "metadata": {
        "id": "12a3097b-7268-4f13-bd12-d3456baa7dca"
      },
      "outputs": [],
      "source": [
        "def sigmoid (x):\n",
        "    return 1/(1 + np.exp(-x))"
      ]
    },
    {
      "cell_type": "markdown",
      "id": "2b907d2f-734c-45fc-af00-4e85ce6be7a0",
      "metadata": {
        "id": "2b907d2f-734c-45fc-af00-4e85ce6be7a0"
      },
      "source": [
        "### Defining the derivative to be used for back propogation "
      ]
    },
    {
      "cell_type": "code",
      "execution_count": 97,
      "id": "744a8088-3f31-4bc4-a26d-6f42117c888f",
      "metadata": {
        "id": "744a8088-3f31-4bc4-a26d-6f42117c888f"
      },
      "outputs": [],
      "source": [
        "def sigmoid_backward(x):\n",
        "    return x * (1 - x)"
      ]
    },
    {
      "cell_type": "markdown",
      "id": "267c5621-6fdc-4263-8f22-42947515e768",
      "metadata": {
        "id": "267c5621-6fdc-4263-8f22-42947515e768"
      },
      "source": [
        "### Input datasets"
      ]
    },
    {
      "cell_type": "code",
      "execution_count": 98,
      "id": "f67a7ed1-58eb-47e2-ac78-e0c5c6afe870",
      "metadata": {
        "id": "f67a7ed1-58eb-47e2-ac78-e0c5c6afe870"
      },
      "outputs": [],
      "source": [
        "input_array = np.array([[0.9,0.4],[0,1],[-0.2,0],[0,-1],[0.2,0.3],[-0.2,0.5],[0.1,-0.9],[-0.2,-0.5]])\n",
        "target_array = np.array([[1],[0],[1],[0],[1],[0],[1],[0]])"
      ]
    },
    {
      "cell_type": "code",
      "execution_count": 99,
      "id": "a154d3c8-b7de-4218-be7d-eb5521dc513e",
      "metadata": {
        "id": "a154d3c8-b7de-4218-be7d-eb5521dc513e"
      },
      "outputs": [],
      "source": [
        "epochs = 70\n",
        "l_rate = 0.01\n",
        "input_Layer, hidden_Layer, output_Layer = 2,2,2\n",
        "error = []"
      ]
    },
    {
      "cell_type": "markdown",
      "id": "5c8516e9-74c6-4722-8f13-7653d342f614",
      "metadata": {
        "id": "5c8516e9-74c6-4722-8f13-7653d342f614"
      },
      "source": [
        "### Random weights and bias initialization using numpy random uniform distribution"
      ]
    },
    {
      "cell_type": "code",
      "execution_count": 100,
      "id": "49fa862e-55a4-4fd2-9721-9874511eedd1",
      "metadata": {
        "id": "49fa862e-55a4-4fd2-9721-9874511eedd1"
      },
      "outputs": [],
      "source": [
        "hidden_weights = np.random.uniform(size=(input_Layer,hidden_Layer))\n",
        "hidden_bias =np.random.uniform(size=(1,hidden_Layer))\n",
        "output_weights = np.random.uniform(size=(hidden_Layer,output_Layer))\n",
        "output_bias = np.random.uniform(size=(1,output_Layer))\n"
      ]
    },
    {
      "cell_type": "markdown",
      "id": "07b41329-fad2-4399-9dad-f51b0f96fe1f",
      "metadata": {
        "id": "07b41329-fad2-4399-9dad-f51b0f96fe1f"
      },
      "source": [
        "### looking at the initial weights and biases produced by the random uniform distribution"
      ]
    },
    {
      "cell_type": "code",
      "execution_count": 101,
      "id": "532bd9ba-9168-4ed7-a542-ef50ab5cfe67",
      "metadata": {
        "colab": {
          "base_uri": "https://localhost:8080/"
        },
        "id": "532bd9ba-9168-4ed7-a542-ef50ab5cfe67",
        "outputId": "83050373-f132-40a7-9948-1a3be4912ecc"
      },
      "outputs": [
        {
          "output_type": "stream",
          "name": "stdout",
          "text": [
            "Start hidden weights:\n",
            "  [[0.84339823 0.85584881]\n",
            " [0.16140265 0.53428787]]\n",
            "Start hidden biases:\n",
            "  [[0.75553061 0.25922463]]\n",
            "Start output weights:\n",
            "  [[0.63601    0.86374274]\n",
            " [0.4093106  0.60867845]]\n",
            "Start output biases:\n",
            "  [[0.30979195 0.14710544]]\n"
          ]
        }
      ],
      "source": [
        "print(\"Start hidden weights:\\n \",hidden_weights)\n",
        "print(\"Start hidden biases:\\n \",hidden_bias)\n",
        "print(\"Start output weights:\\n \",output_weights)\n",
        "print(\"Start output biases:\\n \",output_bias)"
      ]
    },
    {
      "cell_type": "markdown",
      "id": "a1ec816c-876f-44c7-90f0-dedb8e3f3469",
      "metadata": {
        "id": "a1ec816c-876f-44c7-90f0-dedb8e3f3469"
      },
      "source": [
        "### Training algorithm to repeat for the number of epochs mentioned above"
      ]
    },
    {
      "cell_type": "code",
      "execution_count": 102,
      "id": "1d09efe5-6430-432d-b823-78cbb021d0ff",
      "metadata": {
        "id": "1d09efe5-6430-432d-b823-78cbb021d0ff"
      },
      "outputs": [],
      "source": [
        "for i in range(epochs):\n",
        "    #Forward Propagation of the network\n",
        "    hidlayer_activation = np.dot(input_array,hidden_weights)\n",
        "    hidlayer_activation = hidlayer_activation + hidden_bias\n",
        "    hidlayer_output = sigmoid(hidlayer_activation)\n",
        "    \n",
        "\n",
        "    outlayer_activation = np.dot(hidlayer_output,output_weights)\n",
        "    outlayer_activation = outlayer_activation + output_bias\n",
        "    pred_output = sigmoid(outlayer_activation)\n",
        "\n",
        "    #Backpropagation for the network\n",
        "    e = target_array - pred_output\n",
        "    d_pred_output = e * sigmoid_backward(pred_output)\n",
        "        \n",
        "    error_hidden_layer = d_pred_output.dot(output_weights.T)\n",
        "    d_hidden_layer = error_hidden_layer * sigmoid_backward(hidlayer_output)\n",
        "    \n",
        "    # Updating Weights and Biases after back propogation\n",
        "    output_weights = output_weights + hidlayer_output.T.dot(d_pred_output) * l_rate\n",
        "    output_bias = output_bias + np.sum(d_pred_output,axis=0,keepdims=True) * l_rate\n",
        "    hidden_weights = hidden_weights + input_array.T.dot(d_hidden_layer) * l_rate\n",
        "    hidden_bias = hidden_bias + np.sum(d_hidden_layer,axis=0,keepdims=True) * l_rate\n",
        "    error.append(abs(np.mean(e)))\n"
      ]
    },
    {
      "cell_type": "markdown",
      "id": "bcfcf4a5-3b9b-4226-b045-07f376e2ed19",
      "metadata": {
        "id": "bcfcf4a5-3b9b-4226-b045-07f376e2ed19"
      },
      "source": [
        "### looking at the final weights and biases after the training algo "
      ]
    },
    {
      "cell_type": "code",
      "execution_count": 103,
      "id": "cf1a616d-d75f-4329-a1c0-cfb038e032d4",
      "metadata": {
        "colab": {
          "base_uri": "https://localhost:8080/",
          "height": 1000
        },
        "id": "cf1a616d-d75f-4329-a1c0-cfb038e032d4",
        "outputId": "c7beae15-07f4-42a4-fa67-5ec2e0f88100"
      },
      "outputs": [
        {
          "output_type": "stream",
          "name": "stdout",
          "text": [
            "Final hidden weights:  [[0.8633854  0.87064503]\n",
            " [0.15911171 0.53267673]]\n",
            "Final hidden bias:  [[0.67855876 0.20729704]]\n",
            "Final output weights:  [[0.49826272 0.71380585]\n",
            " [0.29838806 0.48726402]]\n",
            "Final output bias:  [[ 0.08398355 -0.09519094]]\n",
            "Interation\t|\tError\n",
            "1\t|\t0.23734890775546674\n",
            "2\t|\t0.2360235829989415\n",
            "3\t|\t0.2346982554313925\n",
            "4\t|\t0.23337304085645\n",
            "5\t|\t0.23204805497082123\n",
            "6\t|\t0.23072341331293394\n",
            "7\t|\t0.22939923121183642\n",
            "8\t|\t0.22807562373640813\n",
            "9\t|\t0.22675270564493194\n",
            "10\t|\t0.22543059133508164\n",
            "11\t|\t0.2241093947943735\n",
            "12\t|\t0.22278922955113348\n",
            "13\t|\t0.2214702086260277\n",
            "14\t|\t0.22015244448420423\n",
            "15\t|\t0.2188360489880928\n",
            "16\t|\t0.217521133350906\n",
            "17\t|\t0.2162078080908882\n",
            "18\t|\t0.21489618298635105\n",
            "19\t|\t0.213586367031539\n",
            "20\t|\t0.21227846839336206\n",
            "21\t|\t0.2109725943690337\n",
            "22\t|\t0.20966885134464963\n",
            "23\t|\t0.20836734475474097\n",
            "24\t|\t0.20706817904283437\n",
            "25\t|\t0.20577145762304877\n",
            "26\t|\t0.20447728284275746\n",
            "27\t|\t0.20318575594634236\n",
            "28\t|\t0.20189697704006426\n",
            "29\t|\t0.2006110450580721\n",
            "30\t|\t0.19932805772957254\n",
            "31\t|\t0.198048111547178\n",
            "32\t|\t0.19677130173644963\n",
            "33\t|\t0.1954977222266518\n",
            "34\t|\t0.1942274656227286\n",
            "35\t|\t0.1929606231785162\n",
            "36\t|\t0.19169728477119763\n",
            "37\t|\t0.19043753887700943\n",
            "38\t|\t0.18918147254820378\n",
            "39\t|\t0.18792917139127108\n",
            "40\t|\t0.1866807195464239\n",
            "41\t|\t0.18543619966834266\n",
            "42\t|\t0.18419569290818133\n",
            "43\t|\t0.18295927889682956\n",
            "44\t|\t0.18172703572942608\n",
            "45\t|\t0.18049903995111738\n",
            "46\t|\t0.17927536654405263\n",
            "47\t|\t0.17805608891560548\n",
            "48\t|\t0.17684127888781176\n",
            "49\t|\t0.17563100668801057\n",
            "50\t|\t0.1744253409406741\n",
            "51\t|\t0.17322434866041228\n",
            "52\t|\t0.172028095246135\n",
            "53\t|\t0.17083664447635466\n",
            "54\t|\t0.1696500585056102\n",
            "55\t|\t0.16846839786199386\n",
            "56\t|\t0.16729172144575857\n",
            "57\t|\t0.16612008652898588\n",
            "58\t|\t0.1649535487562911\n",
            "59\t|\t0.16379216214654316\n",
            "60\t|\t0.16263597909557484\n",
            "61\t|\t0.161485050379859\n",
            "62\t|\t0.16033942516112576\n",
            "63\t|\t0.15919915099189513\n",
            "64\t|\t0.15806427382189842\n",
            "65\t|\t0.15693483800536215\n",
            "66\t|\t0.1558108863091283\n",
            "67\t|\t0.15469245992158173\n",
            "68\t|\t0.15357959846235972\n",
            "69\t|\t0.1524723399928137\n",
            "70\t|\t0.15137072102719742\n"
          ]
        },
        {
          "output_type": "display_data",
          "data": {
            "text/plain": [
              "<Figure size 432x288 with 1 Axes>"
            ],
            "image/png": "[encoded data removed]"
          },
          "metadata": {
            "needs_background": "light"
          }
        }
      ],
      "source": [
        "print(\"Final hidden weights: \",hidden_weights)\n",
        "print(\"Final hidden bias: \",hidden_bias)\n",
        "print(\"Final output weights: \",output_weights)\n",
        "print(\"Final output bias: \",output_bias)\n",
        "\n",
        "\n",
        "print(\"Interation\\t|\\tError\")\n",
        "for i in range(len(error)):\n",
        "    print(str(i+1)+\"\\t|\\t\"+str(error[i]))\n",
        "    plt.plot(error,'-r')    \n",
        "    \n",
        "    \n",
        "#naming the x axis\n",
        "plt.xlabel('iterations')\n",
        "#naming the y axis\n",
        "plt.ylabel('error')\n",
        "\n",
        "#giving a title to my graph\n",
        "plt.title('Plotting Error')\n",
        "\n",
        "#function to show the plot\n",
        "plt.show()\n"
      ]
    }
  ],
  "metadata": {
    "kernelspec": {
      "display_name": "Python 3",
      "language": "python",
      "name": "python3"
    },
    "language_info": {
      "codemirror_mode": {
        "name": "ipython",
        "version": 3
      },
      "file_extension": ".py",
      "mimetype": "text/x-python",
      "name": "python",
      "nbconvert_exporter": "python",
      "pygments_lexer": "ipython3",
      "version": "3.8.8"
    },
    "colab": {
      "name": "lab5.ipynb",
      "provenance": [],
      "include_colab_link": true
    }
  },
  "nbformat": 4,
  "nbformat_minor": 5
}