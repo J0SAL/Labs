{
  "cells": [
    {
      "cell_type": "markdown",
      "metadata": {
        "id": "view-in-github",
        "colab_type": "text"
      },
      "source": [
        "<a href=\"https://colab.research.google.com/github/J0SAL/Labs/blob/main/SC-IT312/lab5.ipynb\" target=\"_parent\"><img src=\"https://colab.research.google.com/assets/colab-badge.svg\" alt=\"Open In Colab\"/></a>"
      ]
    },
    {
      "cell_type": "code",
      "source": [
        "!python --version"
      ],
      "metadata": {
        "colab": {
          "base_uri": "https://localhost:8080/"
        },
        "id": "VynMHh8qaD58",
        "outputId": "c24446eb-ef42-41ef-bb88-d0d0fd838bc9"
      },
      "id": "VynMHh8qaD58",
      "execution_count": 79,
      "outputs": [
        {
          "output_type": "stream",
          "name": "stdout",
          "text": [
            "Python 3.7.13\n"
          ]
        }
      ]
    },
    {
      "cell_type": "code",
      "execution_count": 80,
      "id": "a75798a5-f28c-4787-b348-4b5ba2f424a6",
      "metadata": {
        "id": "a75798a5-f28c-4787-b348-4b5ba2f424a6"
      },
      "outputs": [],
      "source": [
        "import numpy as np \n",
        "import matplotlib.pyplot as plt"
      ]
    },
    {
      "cell_type": "markdown",
      "id": "2b907d2f-734c-45fc-af00-4e85ce6be7a0",
      "metadata": {
        "id": "2b907d2f-734c-45fc-af00-4e85ce6be7a0"
      },
      "source": [
        "### Defining the derivative to be used for back propogation "
      ]
    },
    {
      "cell_type": "code",
      "execution_count": 81,
      "id": "12a3097b-7268-4f13-bd12-d3456baa7dca",
      "metadata": {
        "id": "12a3097b-7268-4f13-bd12-d3456baa7dca"
      },
      "outputs": [],
      "source": [
        "def sigmoid (x):\n",
        "    return 1/(1 + np.exp(-x))"
      ]
    },
    {
      "cell_type": "code",
      "execution_count": 82,
      "id": "744a8088-3f31-4bc4-a26d-6f42117c888f",
      "metadata": {
        "id": "744a8088-3f31-4bc4-a26d-6f42117c888f"
      },
      "outputs": [],
      "source": [
        "def backward(x):\n",
        "    return x * (1 - x)"
      ]
    },
    {
      "cell_type": "code",
      "source": [
        "# bipolar sigmoid for example 10\n",
        "# def sigmoid (x):\n",
        "#     return (2/(1 + np.exp(-x)))-1;"
      ],
      "metadata": {
        "id": "ukA4m4GM8Zs4"
      },
      "id": "ukA4m4GM8Zs4",
      "execution_count": 83,
      "outputs": []
    },
    {
      "cell_type": "markdown",
      "id": "267c5621-6fdc-4263-8f22-42947515e768",
      "metadata": {
        "id": "267c5621-6fdc-4263-8f22-42947515e768"
      },
      "source": [
        "### Input datasets: Principles of softcomputing page 90, example 9"
      ]
    },
    {
      "cell_type": "code",
      "source": [
        "# input_array = np.array([[0,1]])\n",
        "# target_array = np.array([[1]])\n",
        "# epochs = 1\n",
        "# l_rate = 0.25\n",
        "# input_Layer, hidden_Layer, output_Layer = 2,2,1\n",
        "# hw = [[0.6, -0.3],[-0.1, 0.4]] # ([v11 v12] [v21 v22])\n",
        "# hb = [[0.3, 0.5]] # ([v01 v02])\n",
        "# ow = [[0.4 ],[0.1]] # ([w1] [w2])\n",
        "# ob = [[-0.2]] # w0"
      ],
      "metadata": {
        "id": "tfg-M4mV46W4"
      },
      "id": "tfg-M4mV46W4",
      "execution_count": 84,
      "outputs": []
    },
    {
      "cell_type": "markdown",
      "source": [
        "Input datasets: Principles of softcomputing page 92, example 10"
      ],
      "metadata": {
        "id": "tzXI-uqS9KQ_"
      },
      "id": "tzXI-uqS9KQ_"
    },
    {
      "cell_type": "code",
      "source": [
        "# input_array = np.array([[-1,1]])\n",
        "# target_array = np.array([[1]])\n",
        "# epochs = 1\n",
        "# l_rate = 0.25\n",
        "# input_Layer, hidden_Layer, output_Layer = 2,2,1\n",
        "# hw = [[0.6, -0.3],[-0.1, 0.4]] # ([v11 v12] [v21 v22])\n",
        "# hb = [[0.3, 0.5]] # ([v01 v02])\n",
        "# ow = [[0.4 ],[0.1]] # ([w1] [w2])\n",
        "# ob = [[-0.2]] # w0"
      ],
      "metadata": {
        "id": "yIs1Cy4g7qNj"
      },
      "id": "yIs1Cy4g7qNj",
      "execution_count": 85,
      "outputs": []
    },
    {
      "cell_type": "markdown",
      "source": [
        "Custom Example"
      ],
      "metadata": {
        "id": "M_2ldEUDcgfq"
      },
      "id": "M_2ldEUDcgfq"
    },
    {
      "cell_type": "code",
      "source": [
        "input_array = np.array([[0,1]])\n",
        "target_array = np.array([[0]])\n",
        "epochs = 1\n",
        "l_rate = 0.5\n",
        "input_Layer, hidden_Layer, output_Layer = 2,2,1\n",
        "hw = [[-0.2, 0.2],[-0.1, 0.1]] # ([v11 v12] [v21 v22])\n",
        "hb = [[0.5, 0.2]] # ([v01 v02])\n",
        "ow = [[0.2],[0.2]] # ([w1] [w2])\n",
        "ob = [[-0.1]] # w0"
      ],
      "metadata": {
        "id": "F2PZ5va2sua-"
      },
      "id": "F2PZ5va2sua-",
      "execution_count": 86,
      "outputs": []
    },
    {
      "cell_type": "markdown",
      "id": "07b41329-fad2-4399-9dad-f51b0f96fe1f",
      "metadata": {
        "id": "07b41329-fad2-4399-9dad-f51b0f96fe1f"
      },
      "source": [
        "### looking at the initial weights and biases"
      ]
    },
    {
      "cell_type": "code",
      "execution_count": 87,
      "id": "532bd9ba-9168-4ed7-a542-ef50ab5cfe67",
      "metadata": {
        "colab": {
          "base_uri": "https://localhost:8080/"
        },
        "id": "532bd9ba-9168-4ed7-a542-ef50ab5cfe67",
        "outputId": "5478f660-ddea-455b-d669-82d55287d54e"
      },
      "outputs": [
        {
          "output_type": "stream",
          "name": "stdout",
          "text": [
            "Start hidden weights: (v11 v12 v21 v22)\n",
            "  [[-0.2  0.2]\n",
            " [-0.1  0.1]]\n",
            "Start hidden biases: (v01 v02)\n",
            "  [[0.5 0.2]]\n",
            "Start output weights: (w1 w2) \n",
            "  [[0.2]\n",
            " [0.2]]\n",
            "Start output biases: (w0)\n",
            "  [[-0.1]]\n"
          ]
        }
      ],
      "source": [
        "hidden_weights = np.array(hw)\n",
        "hidden_bias = np.array(hb)\n",
        "output_weights = np.array(ow)\n",
        "output_bias = np.array(ob)\n",
        "\n",
        "\n",
        "print(\"Start hidden weights: (v11 v12 v21 v22)\\n \",hidden_weights)\n",
        "print(\"Start hidden biases: (v01 v02)\\n \",hidden_bias)\n",
        "print(\"Start output weights: (w1 w2) \\n \",output_weights)\n",
        "print(\"Start output biases: (w0)\\n \",output_bias)"
      ]
    },
    {
      "cell_type": "markdown",
      "id": "a1ec816c-876f-44c7-90f0-dedb8e3f3469",
      "metadata": {
        "id": "a1ec816c-876f-44c7-90f0-dedb8e3f3469"
      },
      "source": [
        "### Training algorithm to repeat for the number of epochs mentioned above"
      ]
    },
    {
      "cell_type": "code",
      "execution_count": 88,
      "id": "1d09efe5-6430-432d-b823-78cbb021d0ff",
      "metadata": {
        "id": "1d09efe5-6430-432d-b823-78cbb021d0ff",
        "outputId": "e2d1e2b6-c08a-4267-ca9c-7e274a48d054",
        "colab": {
          "base_uri": "https://localhost:8080/"
        }
      },
      "outputs": [
        {
          "output_type": "stream",
          "name": "stdout",
          "text": [
            "output weights:  [[0.2]\n",
            " [0.2]]\n",
            "hidlayer output:  [[0.59868766 0.57444252]]\n",
            "d_pred_output:  [[-0.13279882]]\n",
            "output_bias:  [[-0.1]]\n",
            "np.sum(d_pred_output,axis=0,keepdims=True):  [[-0.13279882]]\n"
          ]
        }
      ],
      "source": [
        "for i in range(epochs):\n",
        "    #Forward Propagation of the network\n",
        "    hidlayer_activation = np.dot(input_array,hidden_weights)\n",
        "    hidlayer_activation = hidlayer_activation + hidden_bias\n",
        "    hidlayer_output = sigmoid(hidlayer_activation)\n",
        "    \n",
        "    outlayer_activation = np.dot(hidlayer_output,output_weights)\n",
        "    outlayer_activation = outlayer_activation + output_bias\n",
        "    pred_output = sigmoid(outlayer_activation)\n",
        "\n",
        "    #Backpropagation for the network\n",
        "    e = target_array - pred_output\n",
        "    d_pred_output = e * backward(pred_output)\n",
        "    \n",
        "    error_hidden_layer = np.dot(d_pred_output,output_weights.T)\n",
        "    d_hidden_layer = error_hidden_layer * backward(hidlayer_output)\n",
        "    \n",
        "    # Updating Weights and Biases after back propogation\n",
        "    print(\"output weights: \", output_weights)\n",
        "    print(\"hidlayer output: \", hidlayer_output)\n",
        "    print(\"d_pred_output: \",d_pred_output )\n",
        "    print(\"output_bias: \",output_bias )\n",
        "    print(\"np.sum(d_pred_output,axis=0,keepdims=True): \",np.sum(d_pred_output,axis=0,keepdims=True) )\n",
        "    \n",
        "    \n",
        "    output_weights = output_weights + hidlayer_output.T.dot(d_pred_output) * l_rate\n",
        "    output_bias = output_bias + np.sum(d_pred_output,axis=0,keepdims=True) * l_rate\n",
        "    hidden_weights = hidden_weights + input_array.T.dot(d_hidden_layer) * l_rate\n",
        "    hidden_bias = hidden_bias + np.sum(d_hidden_layer,axis=0,keepdims=True) * l_rate\n"
      ]
    },
    {
      "cell_type": "markdown",
      "id": "bcfcf4a5-3b9b-4226-b045-07f376e2ed19",
      "metadata": {
        "id": "bcfcf4a5-3b9b-4226-b045-07f376e2ed19"
      },
      "source": [
        "### looking at the final weights and biases after the training algo "
      ]
    },
    {
      "cell_type": "code",
      "execution_count": 89,
      "id": "cf1a616d-d75f-4329-a1c0-cfb038e032d4",
      "metadata": {
        "colab": {
          "base_uri": "https://localhost:8080/"
        },
        "id": "cf1a616d-d75f-4329-a1c0-cfb038e032d4",
        "outputId": "dde0f49f-c9aa-4f4f-adf2-0525fae4f460"
      },
      "outputs": [
        {
          "output_type": "stream",
          "name": "stdout",
          "text": [
            "\n",
            "Final hidden weights: (v11 v12 v21 v22)\n",
            "  [[-0.2         0.2       ]\n",
            " [-0.10319063  0.09675362]]\n",
            "\n",
            "Final hidden bias: (v01 v02) \n",
            " [[0.49680937 0.19675362]]\n",
            "\n",
            "Final output weights: (w1, w2)\n",
            "  [[0.16024749]\n",
            " [0.16185736]]\n",
            "\n",
            "Final output bias: (w0)\n",
            "  [[-0.16639941]]\n"
          ]
        }
      ],
      "source": [
        "print(\"\\nFinal hidden weights: (v11 v12 v21 v22)\\n \",hidden_weights)\n",
        "print(\"\\nFinal hidden bias: (v01 v02) \\n\",hidden_bias)\n",
        "print(\"\\nFinal output weights: (w1, w2)\\n \",output_weights)\n",
        "print(\"\\nFinal output bias: (w0)\\n \",output_bias)"
      ]
    }
  ],
  "metadata": {
    "kernelspec": {
      "display_name": "Python 3",
      "language": "python",
      "name": "python3"
    },
    "language_info": {
      "codemirror_mode": {
        "name": "ipython",
        "version": 3
      },
      "file_extension": ".py",
      "mimetype": "text/x-python",
      "name": "python",
      "nbconvert_exporter": "python",
      "pygments_lexer": "ipython3",
      "version": "3.8.8"
    },
    "colab": {
      "name": "lab5.ipynb",
      "provenance": [],
      "include_colab_link": true
    }
  },
  "nbformat": 4,
  "nbformat_minor": 5
}