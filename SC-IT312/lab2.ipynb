{
  "nbformat": 4,
  "nbformat_minor": 0,
  "metadata": {
    "colab": {
      "name": "SC_lab2.ipynb",
      "provenance": [],
      "authorship_tag": "ABX9TyOuM0pT7eatnpanwnyMmdwa",
      "include_colab_link": true
    },
    "kernelspec": {
      "name": "python3",
      "display_name": "Python 3"
    },
    "language_info": {
      "name": "python"
    }
  },
  "cells": [
    {
      "cell_type": "markdown",
      "metadata": {
        "id": "view-in-github",
        "colab_type": "text"
      },
      "source": [
        "<a href=\"https://colab.research.google.com/github/J0SAL/Labs/blob/main/SC-IT312/lab2.ipynb\" target=\"_parent\"><img src=\"https://colab.research.google.com/assets/colab-badge.svg\" alt=\"Open In Colab\"/></a>"
      ]
    },
    {
      "cell_type": "code",
      "execution_count": 1,
      "metadata": {
        "id": "C2QEBetFCp-A"
      },
      "outputs": [],
      "source": [
        "import numpy as np\n",
        "from math import e"
      ]
    },
    {
      "cell_type": "code",
      "source": [
        "def printSol(name, result):\n",
        "  print(name , \" : \"  , result)\n",
        "  print(\" --- \")"
      ],
      "metadata": {
        "id": "l-VX3qqsQDKn"
      },
      "execution_count": 25,
      "outputs": []
    },
    {
      "cell_type": "code",
      "source": [
        "def sigmoid_fun(x):\n",
        "    res = (1/(1 + np.exp(-x)))\n",
        "    printSol(\"Sigmoid\", res)"
      ],
      "metadata": {
        "id": "KOrZdaqMPv4I"
      },
      "execution_count": 14,
      "outputs": []
    },
    {
      "cell_type": "code",
      "source": [
        "def tanh_fun(x):\n",
        "    res = (2/(1 + np.exp(-2*x))) -1\n",
        "    printSol(\"TanH\", res)"
      ],
      "metadata": {
        "id": "xUC7ZLoTQevW"
      },
      "execution_count": 23,
      "outputs": []
    },
    {
      "cell_type": "code",
      "source": [
        "def relu_fun(x):\n",
        "    if x<0:\n",
        "        res = 0\n",
        "    else:\n",
        "        res = x\n",
        "    printSol(\"RELU\", res)"
      ],
      "metadata": {
        "id": "x5ye8yEAQs3B"
      },
      "execution_count": 16,
      "outputs": []
    },
    {
      "cell_type": "code",
      "source": [
        "def leaky_relu_fun(x):\n",
        "    if x<0:\n",
        "        res = 0.01*x\n",
        "    else:\n",
        "        res = x\n",
        "    printSol(\"Leaky RELU\", res)\n"
      ],
      "metadata": {
        "id": "cgPNyn6tQ8S0"
      },
      "execution_count": 17,
      "outputs": []
    },
    {
      "cell_type": "code",
      "source": [
        "def binary_step_fun(x):\n",
        "    if x<0:\n",
        "        res = 0\n",
        "    else:\n",
        "        res = 1\n",
        "    printSol(\"Binary Step\", res);"
      ],
      "metadata": {
        "id": "HtFYrClrPHDx"
      },
      "execution_count": 18,
      "outputs": []
    },
    {
      "cell_type": "code",
      "source": [
        "def linear_fun(x):\n",
        "    a = 3\n",
        "    res =  a*x\n",
        "    printSol(\"Linear\", res)"
      ],
      "metadata": {
        "id": "U3KEPPQgT1mw"
      },
      "execution_count": 19,
      "outputs": []
    },
    {
      "cell_type": "code",
      "source": [
        "x1 = float(input(\"Enter x1: \"))\n",
        "x2 = float(input(\"Enter x2: \"))\n",
        "x3 = float(input(\"Enter x3: \"))\n",
        "w1 = float(input(\"Enter w1: \"))\n",
        "w2 = float(input(\"Enter w2: \"))\n",
        "w3 = float(input(\"Enter w3: \"))\n",
        "b = float(input(\"Enter b: \"))\n",
        "yin = (x1*w1+x2*w2+x3*w3) + b;\n",
        "\n",
        "print(\"yin: \", yin)"
      ],
      "metadata": {
        "colab": {
          "base_uri": "https://localhost:8080/"
        },
        "id": "hf36c15XUROF",
        "outputId": "f80ae282-1135-4f0a-bbb4-e57b41d0bb1c"
      },
      "execution_count": 13,
      "outputs": [
        {
          "output_type": "stream",
          "name": "stdout",
          "text": [
            "Enter x1: 3.5\n",
            "Enter x2: 4.5\n",
            "Enter x3: 2.5\n",
            "Enter w1: 0.3\n",
            "Enter w2: 0.2\n",
            "Enter w3: 0.4\n",
            "Enter b: 0.7\n",
            "yin:  3.6500000000000004\n"
          ]
        }
      ]
    },
    {
      "cell_type": "code",
      "source": [
        "print(\"Activation Function : Output\\n\")\n",
        "sigmoid_fun(yin);\n",
        "tanh_fun(yin);\n",
        "relu_fun(yin);\n",
        "leaky_relu_fun(yin);\n",
        "binary_step_fun(yin);\n",
        "linear_fun(yin);"
      ],
      "metadata": {
        "colab": {
          "base_uri": "https://localhost:8080/"
        },
        "id": "ng0K6zwKV5lt",
        "outputId": "02557b32-6eb5-42dd-bd48-bdc1628ae84a"
      },
      "execution_count": 26,
      "outputs": [
        {
          "output_type": "stream",
          "name": "stdout",
          "text": [
            "Activation Function : Output\n",
            "\n",
            "Sigmoid  :  0.9746672967731284\n",
            " --- \n",
            "TanH  :  0.9986498345387345\n",
            " --- \n",
            "RELU  :  3.6500000000000004\n",
            " --- \n",
            "Leaky RELU  :  3.6500000000000004\n",
            " --- \n",
            "Binary Step  :  1\n",
            " --- \n",
            "Linear  :  10.950000000000001\n",
            " --- \n"
          ]
        }
      ]
    }
  ]
}