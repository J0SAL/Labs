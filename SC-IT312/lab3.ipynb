{
  "cells": [
    {
      "cell_type": "markdown",
      "metadata": {
        "id": "view-in-github",
        "colab_type": "text"
      },
      "source": [
        "<a href=\"https://colab.research.google.com/github/J0SAL/Labs/blob/main/SC-IT312/lab3.ipynb\" target=\"_parent\"><img src=\"https://colab.research.google.com/assets/colab-badge.svg\" alt=\"Open In Colab\"/></a>"
      ]
    },
    {
      "cell_type": "markdown",
      "source": [
        "SC EXP 3\n",
        "**DISTINGUISH BETWEEN APPLES AND ORANGES** using Perceptron"
      ],
      "metadata": {
        "id": "GUkt-RXInZwQ"
      },
      "id": "GUkt-RXInZwQ"
    },
    {
      "cell_type": "code",
      "execution_count": 17,
      "id": "4a054e19",
      "metadata": {
        "id": "4a054e19"
      },
      "outputs": [],
      "source": [
        "import pandas as pd\n",
        "import numpy as np\n",
        "from sklearn.linear_model import Perceptron"
      ]
    },
    {
      "cell_type": "code",
      "execution_count": 3,
      "id": "2018e39d",
      "metadata": {
        "id": "2018e39d"
      },
      "outputs": [],
      "source": [
        "#x1 = Shape   : 1=round, 0=elliptical\n",
        "#x2 = Texture : 1=smooth 0=rough\n",
        "#y  = Output  : 1=Apple 0=Orange\n"
      ]
    },
    {
      "cell_type": "code",
      "execution_count": 24,
      "id": "6191dc0d",
      "metadata": {
        "colab": {
          "base_uri": "https://localhost:8080/"
        },
        "id": "6191dc0d",
        "outputId": "045c2513-d31c-4fd4-caa8-826db7dd5727"
      },
      "outputs": [
        {
          "output_type": "stream",
          "name": "stdout",
          "text": [
            "   x1  x2  y\n",
            "0   0   0  0\n",
            "1   0   1  1\n",
            "2   1   0  0\n",
            "3   1   1  1\n"
          ]
        }
      ],
      "source": [
        "data = [[0,0, 0], [0, 1, 1], [1, 0, 0], [1, 1, 1]]\n",
        "features = ['x1', 'x2', 'y']\n",
        "\n",
        "\n",
        "data = np.array(data)\n",
        "\n",
        "df = pd.DataFrame(data = data, columns = features)\n",
        "print(df);\n"
      ]
    },
    {
      "cell_type": "code",
      "source": [
        "y = df['y']\n",
        "X = df.drop(['y'], axis = 1)"
      ],
      "metadata": {
        "colab": {
          "base_uri": "https://localhost:8080/"
        },
        "id": "NG37fNZBmsga",
        "outputId": "b9b58f51-ab46-4d6a-b153-5ffb4f078dad"
      },
      "id": "NG37fNZBmsga",
      "execution_count": 23,
      "outputs": [
        {
          "output_type": "stream",
          "name": "stdout",
          "text": [
            "0    0\n",
            "1    1\n",
            "2    0\n",
            "3    1\n",
            "Name: y, dtype: int64\n"
          ]
        }
      ]
    },
    {
      "cell_type": "code",
      "execution_count": 20,
      "id": "81979754",
      "metadata": {
        "id": "81979754"
      },
      "outputs": [],
      "source": [
        "p = Perceptron(eta0=0.0001)\n",
        "model = p.fit(X, y)"
      ]
    },
    {
      "cell_type": "code",
      "execution_count": 21,
      "id": "9c549e78",
      "metadata": {
        "colab": {
          "base_uri": "https://localhost:8080/"
        },
        "id": "9c549e78",
        "outputId": "8b75331a-a75e-4b66-caae-0dde733ec98e"
      },
      "outputs": [
        {
          "output_type": "stream",
          "name": "stdout",
          "text": [
            "[1]\n"
          ]
        },
        {
          "output_type": "stream",
          "name": "stderr",
          "text": [
            "/usr/local/lib/python3.7/dist-packages/sklearn/base.py:451: UserWarning: X does not have valid feature names, but Perceptron was fitted with feature names\n",
            "  \"X does not have valid feature names, but\"\n"
          ]
        }
      ],
      "source": [
        "print ((model.predict([[0, 1]])))"
      ]
    },
    {
      "cell_type": "code",
      "execution_count": 25,
      "id": "306ca7b2",
      "metadata": {
        "colab": {
          "base_uri": "https://localhost:8080/"
        },
        "id": "306ca7b2",
        "outputId": "5d6f0462-ccc3-4ea4-9b55-5290e64e9feb"
      },
      "outputs": [
        {
          "output_type": "stream",
          "name": "stdout",
          "text": [
            "[0]\n"
          ]
        },
        {
          "output_type": "stream",
          "name": "stderr",
          "text": [
            "/usr/local/lib/python3.7/dist-packages/sklearn/base.py:451: UserWarning: X does not have valid feature names, but Perceptron was fitted with feature names\n",
            "  \"X does not have valid feature names, but\"\n"
          ]
        }
      ],
      "source": [
        "print ((model.predict([[1, 0]])))"
      ]
    },
    {
      "cell_type": "code",
      "execution_count": 26,
      "id": "e05a71a1",
      "metadata": {
        "colab": {
          "base_uri": "https://localhost:8080/"
        },
        "id": "e05a71a1",
        "outputId": "93bdf39a-b4d0-4a7e-f878-9147c5817bc2"
      },
      "outputs": [
        {
          "output_type": "stream",
          "name": "stdout",
          "text": [
            "[1]\n"
          ]
        },
        {
          "output_type": "stream",
          "name": "stderr",
          "text": [
            "/usr/local/lib/python3.7/dist-packages/sklearn/base.py:451: UserWarning: X does not have valid feature names, but Perceptron was fitted with feature names\n",
            "  \"X does not have valid feature names, but\"\n"
          ]
        }
      ],
      "source": [
        "print ((model.predict([[1, 1]])))"
      ]
    },
    {
      "cell_type": "code",
      "execution_count": 27,
      "id": "a65017de",
      "metadata": {
        "colab": {
          "base_uri": "https://localhost:8080/"
        },
        "id": "a65017de",
        "outputId": "ce95bc22-6108-4fd0-d72b-6cf56a946074"
      },
      "outputs": [
        {
          "output_type": "stream",
          "name": "stdout",
          "text": [
            "[0]\n"
          ]
        },
        {
          "output_type": "stream",
          "name": "stderr",
          "text": [
            "/usr/local/lib/python3.7/dist-packages/sklearn/base.py:451: UserWarning: X does not have valid feature names, but Perceptron was fitted with feature names\n",
            "  \"X does not have valid feature names, but\"\n"
          ]
        }
      ],
      "source": [
        "print ((model.predict([[0, 0]])))"
      ]
    }
  ],
  "metadata": {
    "kernelspec": {
      "display_name": "Python 3 (ipykernel)",
      "language": "python",
      "name": "python3"
    },
    "language_info": {
      "codemirror_mode": {
        "name": "ipython",
        "version": 3
      },
      "file_extension": ".py",
      "mimetype": "text/x-python",
      "name": "python",
      "nbconvert_exporter": "python",
      "pygments_lexer": "ipython3",
      "version": "3.9.5"
    },
    "colab": {
      "name": "sc_exp3.ipynb",
      "provenance": [],
      "include_colab_link": true
    }
  },
  "nbformat": 4,
  "nbformat_minor": 5
}