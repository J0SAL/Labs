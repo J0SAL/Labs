{
  "cells": [
    {
      "cell_type": "markdown",
      "metadata": {
        "id": "view-in-github",
        "colab_type": "text"
      },
      "source": [
        "<a href=\"https://colab.research.google.com/github/J0SAL/Labs/blob/main/SC-IT312/lab3.ipynb\" target=\"_parent\"><img src=\"https://colab.research.google.com/assets/colab-badge.svg\" alt=\"Open In Colab\"/></a>"
      ]
    },
    {
      "cell_type": "markdown",
      "source": [
        "SC EXP 3\n",
        "**DISTINGUISH BETWEEN APPLES AND ORANGES** using Perceptron"
      ],
      "metadata": {
        "id": "GUkt-RXInZwQ"
      },
      "id": "GUkt-RXInZwQ"
    },
    {
      "cell_type": "code",
      "source": [
        "!python --version"
      ],
      "metadata": {
        "id": "vWGc0RzgogMG",
        "outputId": "a223e7c4-8c95-43ab-b3da-847bccce0566",
        "colab": {
          "base_uri": "https://localhost:8080/"
        }
      },
      "id": "vWGc0RzgogMG",
      "execution_count": 60,
      "outputs": [
        {
          "output_type": "stream",
          "name": "stdout",
          "text": [
            "Python 3.7.12\n"
          ]
        }
      ]
    },
    {
      "cell_type": "code",
      "source": [
        "import pandas as pd\n",
        "import numpy as np\n",
        "import matplotlib.pyplot as plt\n",
        "import math\n",
        "from sklearn.model_selection import train_test_split\n",
        "e=2.1718"
      ],
      "metadata": {
        "id": "Fs6xW0G2HTkJ"
      },
      "id": "Fs6xW0G2HTkJ",
      "execution_count": 61,
      "outputs": []
    },
    {
      "cell_type": "code",
      "source": [
        "df = pd.read_csv(\"exp3.csv\");\n",
        "df"
      ],
      "metadata": {
        "id": "G-zjWJ5sHjlS",
        "outputId": "866f2060-311a-4951-8e60-34176f528b78",
        "colab": {
          "base_uri": "https://localhost:8080/",
          "height": 363
        }
      },
      "id": "G-zjWJ5sHjlS",
      "execution_count": 62,
      "outputs": [
        {
          "output_type": "execute_result",
          "data": {
            "text/plain": [
              "   shape  texture  type\n",
              "0   0.96     0.60     1\n",
              "1   0.83    -0.43     0\n",
              "2   0.63     0.97     1\n",
              "3   0.12     0.88     1\n",
              "4   0.62    -0.43     0\n",
              "5  -0.78     0.99     1\n",
              "6  -0.56     0.71     1\n",
              "7   0.67    -0.23     0\n",
              "8   0.73     0.34     1\n",
              "9   0.27    -0.56     0"
            ],
            "text/html": [
              "\n",
              "  <div id=\"df-bd61eb6d-37e5-4ba6-9b51-f2386243cc9e\">\n",
              "    <div class=\"colab-df-container\">\n",
              "      <div>\n",
              "<style scoped>\n",
              "    .dataframe tbody tr th:only-of-type {\n",
              "        vertical-align: middle;\n",
              "    }\n",
              "\n",
              "    .dataframe tbody tr th {\n",
              "        vertical-align: top;\n",
              "    }\n",
              "\n",
              "    .dataframe thead th {\n",
              "        text-align: right;\n",
              "    }\n",
              "</style>\n",
              "<table border=\"1\" class=\"dataframe\">\n",
              "  <thead>\n",
              "    <tr style=\"text-align: right;\">\n",
              "      <th></th>\n",
              "      <th>shape</th>\n",
              "      <th>texture</th>\n",
              "      <th>type</th>\n",
              "    </tr>\n",
              "  </thead>\n",
              "  <tbody>\n",
              "    <tr>\n",
              "      <th>0</th>\n",
              "      <td>0.96</td>\n",
              "      <td>0.60</td>\n",
              "      <td>1</td>\n",
              "    </tr>\n",
              "    <tr>\n",
              "      <th>1</th>\n",
              "      <td>0.83</td>\n",
              "      <td>-0.43</td>\n",
              "      <td>0</td>\n",
              "    </tr>\n",
              "    <tr>\n",
              "      <th>2</th>\n",
              "      <td>0.63</td>\n",
              "      <td>0.97</td>\n",
              "      <td>1</td>\n",
              "    </tr>\n",
              "    <tr>\n",
              "      <th>3</th>\n",
              "      <td>0.12</td>\n",
              "      <td>0.88</td>\n",
              "      <td>1</td>\n",
              "    </tr>\n",
              "    <tr>\n",
              "      <th>4</th>\n",
              "      <td>0.62</td>\n",
              "      <td>-0.43</td>\n",
              "      <td>0</td>\n",
              "    </tr>\n",
              "    <tr>\n",
              "      <th>5</th>\n",
              "      <td>-0.78</td>\n",
              "      <td>0.99</td>\n",
              "      <td>1</td>\n",
              "    </tr>\n",
              "    <tr>\n",
              "      <th>6</th>\n",
              "      <td>-0.56</td>\n",
              "      <td>0.71</td>\n",
              "      <td>1</td>\n",
              "    </tr>\n",
              "    <tr>\n",
              "      <th>7</th>\n",
              "      <td>0.67</td>\n",
              "      <td>-0.23</td>\n",
              "      <td>0</td>\n",
              "    </tr>\n",
              "    <tr>\n",
              "      <th>8</th>\n",
              "      <td>0.73</td>\n",
              "      <td>0.34</td>\n",
              "      <td>1</td>\n",
              "    </tr>\n",
              "    <tr>\n",
              "      <th>9</th>\n",
              "      <td>0.27</td>\n",
              "      <td>-0.56</td>\n",
              "      <td>0</td>\n",
              "    </tr>\n",
              "  </tbody>\n",
              "</table>\n",
              "</div>\n",
              "      <button class=\"colab-df-convert\" onclick=\"convertToInteractive('df-bd61eb6d-37e5-4ba6-9b51-f2386243cc9e')\"\n",
              "              title=\"Convert this dataframe to an interactive table.\"\n",
              "              style=\"display:none;\">\n",
              "        \n",
              "  <svg xmlns=\"http://www.w3.org/2000/svg\" height=\"24px\"viewBox=\"0 0 24 24\"\n",
              "       width=\"24px\">\n",
              "    <path d=\"M0 0h24v24H0V0z\" fill=\"none\"/>\n",
              "    <path d=\"M18.56 5.44l.94 2.06.94-2.06 2.06-.94-2.06-.94-.94-2.06-.94 2.06-2.06.94zm-11 1L8.5 8.5l.94-2.06 2.06-.94-2.06-.94L8.5 2.5l-.94 2.06-2.06.94zm10 10l.94 2.06.94-2.06 2.06-.94-2.06-.94-.94-2.06-.94 2.06-2.06.94z\"/><path d=\"M17.41 7.96l-1.37-1.37c-.4-.4-.92-.59-1.43-.59-.52 0-1.04.2-1.43.59L10.3 9.45l-7.72 7.72c-.78.78-.78 2.05 0 2.83L4 21.41c.39.39.9.59 1.41.59.51 0 1.02-.2 1.41-.59l7.78-7.78 2.81-2.81c.8-.78.8-2.07 0-2.86zM5.41 20L4 18.59l7.72-7.72 1.47 1.35L5.41 20z\"/>\n",
              "  </svg>\n",
              "      </button>\n",
              "      \n",
              "  <style>\n",
              "    .colab-df-container {\n",
              "      display:flex;\n",
              "      flex-wrap:wrap;\n",
              "      gap: 12px;\n",
              "    }\n",
              "\n",
              "    .colab-df-convert {\n",
              "      background-color: #E8F0FE;\n",
              "      border: none;\n",
              "      border-radius: 50%;\n",
              "      cursor: pointer;\n",
              "      display: none;\n",
              "      fill: #1967D2;\n",
              "      height: 32px;\n",
              "      padding: 0 0 0 0;\n",
              "      width: 32px;\n",
              "    }\n",
              "\n",
              "    .colab-df-convert:hover {\n",
              "      background-color: #E2EBFA;\n",
              "      box-shadow: 0px 1px 2px rgba(60, 64, 67, 0.3), 0px 1px 3px 1px rgba(60, 64, 67, 0.15);\n",
              "      fill: #174EA6;\n",
              "    }\n",
              "\n",
              "    [theme=dark] .colab-df-convert {\n",
              "      background-color: #3B4455;\n",
              "      fill: #D2E3FC;\n",
              "    }\n",
              "\n",
              "    [theme=dark] .colab-df-convert:hover {\n",
              "      background-color: #434B5C;\n",
              "      box-shadow: 0px 1px 3px 1px rgba(0, 0, 0, 0.15);\n",
              "      filter: drop-shadow(0px 1px 2px rgba(0, 0, 0, 0.3));\n",
              "      fill: #FFFFFF;\n",
              "    }\n",
              "  </style>\n",
              "\n",
              "      <script>\n",
              "        const buttonEl =\n",
              "          document.querySelector('#df-bd61eb6d-37e5-4ba6-9b51-f2386243cc9e button.colab-df-convert');\n",
              "        buttonEl.style.display =\n",
              "          google.colab.kernel.accessAllowed ? 'block' : 'none';\n",
              "\n",
              "        async function convertToInteractive(key) {\n",
              "          const element = document.querySelector('#df-bd61eb6d-37e5-4ba6-9b51-f2386243cc9e');\n",
              "          const dataTable =\n",
              "            await google.colab.kernel.invokeFunction('convertToInteractive',\n",
              "                                                     [key], {});\n",
              "          if (!dataTable) return;\n",
              "\n",
              "          const docLinkHtml = 'Like what you see? Visit the ' +\n",
              "            '<a target=\"_blank\" href=https://colab.research.google.com/notebooks/data_table.ipynb>data table notebook</a>'\n",
              "            + ' to learn more about interactive tables.';\n",
              "          element.innerHTML = '';\n",
              "          dataTable['output_type'] = 'display_data';\n",
              "          await google.colab.output.renderOutput(dataTable, element);\n",
              "          const docLink = document.createElement('div');\n",
              "          docLink.innerHTML = docLinkHtml;\n",
              "          element.appendChild(docLink);\n",
              "        }\n",
              "      </script>\n",
              "    </div>\n",
              "  </div>\n",
              "  "
            ]
          },
          "metadata": {},
          "execution_count": 62
        }
      ]
    },
    {
      "cell_type": "markdown",
      "source": [
        "**Target Variables and Data Variables**"
      ],
      "metadata": {
        "id": "ORQogXV9NK-P"
      },
      "id": "ORQogXV9NK-P"
    },
    {
      "cell_type": "code",
      "source": [
        "target = df['type']\n",
        "data = df[['shape', 'texture']]\n",
        "\n",
        "X_train, X_test, y_train, y_test = train_test_split(data, target, test_size=0.30, random_state = 42)\n",
        "X_train.shape"
      ],
      "metadata": {
        "id": "HWZDDDxVNN0g",
        "outputId": "3536889e-d3e6-47fb-ffb0-6fdd5f1cb0ec",
        "colab": {
          "base_uri": "https://localhost:8080/"
        }
      },
      "id": "HWZDDDxVNN0g",
      "execution_count": 63,
      "outputs": [
        {
          "output_type": "execute_result",
          "data": {
            "text/plain": [
              "(7, 2)"
            ]
          },
          "metadata": {},
          "execution_count": 63
        }
      ]
    },
    {
      "cell_type": "markdown",
      "source": [
        "**Initialising Weights & bias**"
      ],
      "metadata": {
        "id": "YF0ARQWZQOCw"
      },
      "id": "YF0ARQWZQOCw"
    },
    {
      "cell_type": "code",
      "source": [
        "w = np.array([0.0,0.0])\n",
        "b = 1.0;\n",
        "print(\"Weights: \", w)\n",
        "print(\"Bias: \", b)"
      ],
      "metadata": {
        "id": "1dFBg6_qHtx4",
        "outputId": "4d873c22-e845-48cd-ae8b-b042e8a3d28a",
        "colab": {
          "base_uri": "https://localhost:8080/"
        }
      },
      "id": "1dFBg6_qHtx4",
      "execution_count": 64,
      "outputs": [
        {
          "output_type": "stream",
          "name": "stdout",
          "text": [
            "Weights:  [0. 0.]\n",
            "Bias:  1.0\n"
          ]
        }
      ]
    },
    {
      "cell_type": "markdown",
      "source": [
        "**Training**"
      ],
      "metadata": {
        "id": "1Ns5HxV7QiTO"
      },
      "id": "1Ns5HxV7QiTO"
    },
    {
      "cell_type": "code",
      "source": [
        "# defining the epochs and learning rate\n",
        "learning_rate = 0.7\n",
        "epochs = 20\n",
        "epoch_cost_list = []\n",
        "\n",
        "#for each epoch\n",
        "for i in range(epochs):\n",
        "  epoch_cost = 0\n",
        "\n",
        "  x_train = np.array(X_train)\n",
        "  for xi, target in zip(x_train, y_train):\n",
        "    #net input\n",
        "    yin = np.dot(xi, w) +b\n",
        "\n",
        "    #activation function\n",
        "    pred = 1/(1+(e**(-yin)))\n",
        "\n",
        "    #calculating cost\n",
        "    cost = math.sqrt(np.square(target - pred))\n",
        "    epoch_cost += float(cost/len(X_train))\n",
        "\n",
        "    #update weights and biases\n",
        "\n",
        "    update = learning_rate * (target - pred)\n",
        "    w += (update * xi)\n",
        "    b += update\n",
        "\n",
        "  # Store MSE through every epoch iteration\n",
        "  print(\"Cost after epoch {} : {} \".format(i+1, epoch_cost))\n",
        "  epoch_cost_list.append(epoch_cost)"
      ],
      "metadata": {
        "id": "Vf57VajCQkMt",
        "outputId": "32b55141-d0f2-45e8-91c5-0a5da048803d",
        "colab": {
          "base_uri": "https://localhost:8080/"
        }
      },
      "id": "Vf57VajCQkMt",
      "execution_count": 65,
      "outputs": [
        {
          "output_type": "stream",
          "name": "stdout",
          "text": [
            "Cost after epoch 1 : 0.4493474001465489 \n",
            "Cost after epoch 2 : 0.3306222008696634 \n",
            "Cost after epoch 3 : 0.2536897555231315 \n",
            "Cost after epoch 4 : 0.204237366630532 \n",
            "Cost after epoch 5 : 0.17070250983802981 \n",
            "Cost after epoch 6 : 0.14668684566536122 \n",
            "Cost after epoch 7 : 0.12870076542898784 \n",
            "Cost after epoch 8 : 0.1147430684803953 \n",
            "Cost after epoch 9 : 0.10359990999856473 \n",
            "Cost after epoch 10 : 0.09449712547740473 \n",
            "Cost after epoch 11 : 0.08691937527515942 \n",
            "Cost after epoch 12 : 0.08051096648938441 \n",
            "Cost after epoch 13 : 0.07501873602255633 \n",
            "Cost after epoch 14 : 0.07025769897376441 \n",
            "Cost after epoch 15 : 0.06608959003533335 \n",
            "Cost after epoch 16 : 0.062409007119473524 \n",
            "Cost after epoch 17 : 0.059134200094947305 \n",
            "Cost after epoch 18 : 0.05620078856269779 \n",
            "Cost after epoch 19 : 0.05355737888523168 \n",
            "Cost after epoch 20 : 0.05116244376094474 \n"
          ]
        }
      ]
    },
    {
      "cell_type": "code",
      "source": [
        "plt.plot(epoch_cost_list)\n",
        "plt.xlabel('epochs')\n",
        "plt.ylabel('RMSE')\n",
        "plt.show()"
      ],
      "metadata": {
        "id": "ySIsmze1Qhpg",
        "outputId": "ccb3e473-54d6-4a5c-c02c-1ca3e232cec2",
        "colab": {
          "base_uri": "https://localhost:8080/",
          "height": 279
        }
      },
      "id": "ySIsmze1Qhpg",
      "execution_count": 66,
      "outputs": [
        {
          "output_type": "display_data",
          "data": {
            "text/plain": [
              "<Figure size 432x288 with 1 Axes>"
            ],
            "image/png": "[encoded data removed]"
          },
          "metadata": {
            "needs_background": "light"
          }
        }
      ]
    },
    {
      "cell_type": "code",
      "source": [
        "print(\"Value of weights and bias after training w{} : b:{}\".format(w,b))"
      ],
      "metadata": {
        "id": "2wSeeQ90QdxJ",
        "outputId": "1f7986d7-ee85-4e27-daab-bb0a58d88886",
        "colab": {
          "base_uri": "https://localhost:8080/"
        }
      },
      "id": "2wSeeQ90QdxJ",
      "execution_count": 67,
      "outputs": [
        {
          "output_type": "stream",
          "name": "stdout",
          "text": [
            "Value of weights and bias after training w[-1.05070609  6.86135182] : b:-0.45425690300498184\n"
          ]
        }
      ]
    },
    {
      "cell_type": "code",
      "source": [
        "def test(x):\n",
        "  yinx = np.dot(x,w)+b\n",
        "  # using binary sigmodial\n",
        "  predx = 1/(1+(e**(-yinx)))\n",
        "  return predx\n"
      ],
      "metadata": {
        "id": "kkirUaOFT8bt"
      },
      "id": "kkirUaOFT8bt",
      "execution_count": 73,
      "outputs": []
    },
    {
      "cell_type": "code",
      "source": [
        "X_test"
      ],
      "metadata": {
        "id": "3uoQ2N7cVb2d",
        "outputId": "782b5726-4df4-4a22-b4e9-76a66d2fbe88",
        "colab": {
          "base_uri": "https://localhost:8080/",
          "height": 143
        }
      },
      "id": "3uoQ2N7cVb2d",
      "execution_count": 74,
      "outputs": [
        {
          "output_type": "execute_result",
          "data": {
            "text/plain": [
              "   shape  texture\n",
              "8   0.73     0.34\n",
              "1   0.83    -0.43\n",
              "5  -0.78     0.99"
            ],
            "text/html": [
              "\n",
              "  <div id=\"df-f51f53b9-ef3a-4da1-9355-93f26f8e726f\">\n",
              "    <div class=\"colab-df-container\">\n",
              "      <div>\n",
              "<style scoped>\n",
              "    .dataframe tbody tr th:only-of-type {\n",
              "        vertical-align: middle;\n",
              "    }\n",
              "\n",
              "    .dataframe tbody tr th {\n",
              "        vertical-align: top;\n",
              "    }\n",
              "\n",
              "    .dataframe thead th {\n",
              "        text-align: right;\n",
              "    }\n",
              "</style>\n",
              "<table border=\"1\" class=\"dataframe\">\n",
              "  <thead>\n",
              "    <tr style=\"text-align: right;\">\n",
              "      <th></th>\n",
              "      <th>shape</th>\n",
              "      <th>texture</th>\n",
              "    </tr>\n",
              "  </thead>\n",
              "  <tbody>\n",
              "    <tr>\n",
              "      <th>8</th>\n",
              "      <td>0.73</td>\n",
              "      <td>0.34</td>\n",
              "    </tr>\n",
              "    <tr>\n",
              "      <th>1</th>\n",
              "      <td>0.83</td>\n",
              "      <td>-0.43</td>\n",
              "    </tr>\n",
              "    <tr>\n",
              "      <th>5</th>\n",
              "      <td>-0.78</td>\n",
              "      <td>0.99</td>\n",
              "    </tr>\n",
              "  </tbody>\n",
              "</table>\n",
              "</div>\n",
              "      <button class=\"colab-df-convert\" onclick=\"convertToInteractive('df-f51f53b9-ef3a-4da1-9355-93f26f8e726f')\"\n",
              "              title=\"Convert this dataframe to an interactive table.\"\n",
              "              style=\"display:none;\">\n",
              "        \n",
              "  <svg xmlns=\"http://www.w3.org/2000/svg\" height=\"24px\"viewBox=\"0 0 24 24\"\n",
              "       width=\"24px\">\n",
              "    <path d=\"M0 0h24v24H0V0z\" fill=\"none\"/>\n",
              "    <path d=\"M18.56 5.44l.94 2.06.94-2.06 2.06-.94-2.06-.94-.94-2.06-.94 2.06-2.06.94zm-11 1L8.5 8.5l.94-2.06 2.06-.94-2.06-.94L8.5 2.5l-.94 2.06-2.06.94zm10 10l.94 2.06.94-2.06 2.06-.94-2.06-.94-.94-2.06-.94 2.06-2.06.94z\"/><path d=\"M17.41 7.96l-1.37-1.37c-.4-.4-.92-.59-1.43-.59-.52 0-1.04.2-1.43.59L10.3 9.45l-7.72 7.72c-.78.78-.78 2.05 0 2.83L4 21.41c.39.39.9.59 1.41.59.51 0 1.02-.2 1.41-.59l7.78-7.78 2.81-2.81c.8-.78.8-2.07 0-2.86zM5.41 20L4 18.59l7.72-7.72 1.47 1.35L5.41 20z\"/>\n",
              "  </svg>\n",
              "      </button>\n",
              "      \n",
              "  <style>\n",
              "    .colab-df-container {\n",
              "      display:flex;\n",
              "      flex-wrap:wrap;\n",
              "      gap: 12px;\n",
              "    }\n",
              "\n",
              "    .colab-df-convert {\n",
              "      background-color: #E8F0FE;\n",
              "      border: none;\n",
              "      border-radius: 50%;\n",
              "      cursor: pointer;\n",
              "      display: none;\n",
              "      fill: #1967D2;\n",
              "      height: 32px;\n",
              "      padding: 0 0 0 0;\n",
              "      width: 32px;\n",
              "    }\n",
              "\n",
              "    .colab-df-convert:hover {\n",
              "      background-color: #E2EBFA;\n",
              "      box-shadow: 0px 1px 2px rgba(60, 64, 67, 0.3), 0px 1px 3px 1px rgba(60, 64, 67, 0.15);\n",
              "      fill: #174EA6;\n",
              "    }\n",
              "\n",
              "    [theme=dark] .colab-df-convert {\n",
              "      background-color: #3B4455;\n",
              "      fill: #D2E3FC;\n",
              "    }\n",
              "\n",
              "    [theme=dark] .colab-df-convert:hover {\n",
              "      background-color: #434B5C;\n",
              "      box-shadow: 0px 1px 3px 1px rgba(0, 0, 0, 0.15);\n",
              "      filter: drop-shadow(0px 1px 2px rgba(0, 0, 0, 0.3));\n",
              "      fill: #FFFFFF;\n",
              "    }\n",
              "  </style>\n",
              "\n",
              "      <script>\n",
              "        const buttonEl =\n",
              "          document.querySelector('#df-f51f53b9-ef3a-4da1-9355-93f26f8e726f button.colab-df-convert');\n",
              "        buttonEl.style.display =\n",
              "          google.colab.kernel.accessAllowed ? 'block' : 'none';\n",
              "\n",
              "        async function convertToInteractive(key) {\n",
              "          const element = document.querySelector('#df-f51f53b9-ef3a-4da1-9355-93f26f8e726f');\n",
              "          const dataTable =\n",
              "            await google.colab.kernel.invokeFunction('convertToInteractive',\n",
              "                                                     [key], {});\n",
              "          if (!dataTable) return;\n",
              "\n",
              "          const docLinkHtml = 'Like what you see? Visit the ' +\n",
              "            '<a target=\"_blank\" href=https://colab.research.google.com/notebooks/data_table.ipynb>data table notebook</a>'\n",
              "            + ' to learn more about interactive tables.';\n",
              "          element.innerHTML = '';\n",
              "          dataTable['output_type'] = 'display_data';\n",
              "          await google.colab.output.renderOutput(dataTable, element);\n",
              "          const docLink = document.createElement('div');\n",
              "          docLink.innerHTML = docLinkHtml;\n",
              "          element.appendChild(docLink);\n",
              "        }\n",
              "      </script>\n",
              "    </div>\n",
              "  </div>\n",
              "  "
            ]
          },
          "metadata": {},
          "execution_count": 74
        }
      ]
    },
    {
      "cell_type": "code",
      "source": [
        "x_test = np.array(X_test)\n",
        "print(\"Actual\\tPredicted\")\n",
        "for x,y in zip(x_test, y_test):\n",
        "  y_pred = test(x)\n",
        "  print(y,\"\\t\",y_pred)"
      ],
      "metadata": {
        "id": "AjsEeR92UYxM",
        "outputId": "92a2d18f-7d13-45d3-85d6-d9c4fcde8387",
        "colab": {
          "base_uri": "https://localhost:8080/"
        }
      },
      "id": "AjsEeR92UYxM",
      "execution_count": 75,
      "outputs": [
        {
          "output_type": "stream",
          "name": "stdout",
          "text": [
            "Actual\tPredicted\n",
            "1 \t 0.7030989104511617\n",
            "0 \t 0.034997957983181324\n",
            "1 \t 0.9961332129353841\n"
          ]
        }
      ]
    },
    {
      "cell_type": "code",
      "source": [
        "shape = 0.83\n",
        "texture = -0.43\n",
        "\n",
        "# 1: Apple | 0: Orange\n",
        "if round(test([shape, texture])):\n",
        "  print(\"Apple\")\n",
        "else:\n",
        "  print(\"Orange\")"
      ],
      "metadata": {
        "id": "42-yu7MXUsSX",
        "outputId": "f9844560-2d29-41e9-abd6-ab36f97157f2",
        "colab": {
          "base_uri": "https://localhost:8080/"
        }
      },
      "id": "42-yu7MXUsSX",
      "execution_count": 76,
      "outputs": [
        {
          "output_type": "stream",
          "name": "stdout",
          "text": [
            "Orange\n"
          ]
        }
      ]
    },
    {
      "cell_type": "code",
      "source": [
        "shape = -0.43\n",
        "texture = 0.99\n",
        "if round(test([shape, texture])):\n",
        "  print(\"Apple\")\n",
        "else:\n",
        "  print(\"Orange\")"
      ],
      "metadata": {
        "id": "iYwgsFV6WPw4",
        "outputId": "b75aa958-2c2a-4929-aa1b-b430343febbb",
        "colab": {
          "base_uri": "https://localhost:8080/"
        }
      },
      "id": "iYwgsFV6WPw4",
      "execution_count": 77,
      "outputs": [
        {
          "output_type": "stream",
          "name": "stdout",
          "text": [
            "Apple\n"
          ]
        }
      ]
    }
  ],
  "metadata": {
    "kernelspec": {
      "display_name": "Python 3 (ipykernel)",
      "language": "python",
      "name": "python3"
    },
    "language_info": {
      "codemirror_mode": {
        "name": "ipython",
        "version": 3
      },
      "file_extension": ".py",
      "mimetype": "text/x-python",
      "name": "python",
      "nbconvert_exporter": "python",
      "pygments_lexer": "ipython3",
      "version": "3.9.5"
    },
    "colab": {
      "name": "sc_exp3.ipynb",
      "provenance": [],
      "include_colab_link": true
    }
  },
  "nbformat": 4,
  "nbformat_minor": 5
}