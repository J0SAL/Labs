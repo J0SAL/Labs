{
  "nbformat": 4,
  "nbformat_minor": 0,
  "metadata": {
    "colab": {
      "name": "SC_lab1.ipynb",
      "provenance": [],
      "authorship_tag": "ABX9TyOfbbB8d4iYxTM5GGpb3uEv",
      "include_colab_link": true
    },
    "kernelspec": {
      "name": "python3",
      "display_name": "Python 3"
    },
    "language_info": {
      "name": "python"
    }
  },
  "cells": [
    {
      "cell_type": "markdown",
      "metadata": {
        "id": "view-in-github",
        "colab_type": "text"
      },
      "source": [
        "<a href=\"https://colab.research.google.com/github/J0SAL/Labs/blob/main/SC-IT312/lab1.ipynb\" target=\"_parent\"><img src=\"https://colab.research.google.com/assets/colab-badge.svg\" alt=\"Open In Colab\"/></a>"
      ]
    },
    {
      "cell_type": "markdown",
      "source": [
        "# AND and NAND gate\n",
        "2. NAND"
      ],
      "metadata": {
        "id": "KpV9ppRoH6Yo"
      }
    },
    {
      "cell_type": "code",
      "execution_count": null,
      "metadata": {
        "id": "C2QEBetFCp-A"
      },
      "outputs": [],
      "source": [
        "import numpy as np"
      ]
    },
    {
      "cell_type": "code",
      "source": [
        "def thresholdFun(t):\n",
        "  if t<=1:\n",
        "    return 1\n",
        "  else:\n",
        "    return 0"
      ],
      "metadata": {
        "id": "dJj0fliBILKd"
      },
      "execution_count": null,
      "outputs": []
    },
    {
      "cell_type": "code",
      "source": [
        "def MP(x,w):\n",
        "  t=np.dot(w,x)\n",
        "  y=thresholdFun(t)\n",
        "  return y"
      ],
      "metadata": {
        "id": "7KqCxiv2IRMd"
      },
      "execution_count": null,
      "outputs": []
    },
    {
      "cell_type": "code",
      "source": [
        "def AndFun(x):\n",
        "  w=np.array([1,1])\n",
        "  return MP(x,w)\n"
      ],
      "metadata": {
        "id": "5xYdC7dVIS18"
      },
      "execution_count": null,
      "outputs": []
    },
    {
      "cell_type": "code",
      "source": [
        "i1 = np.array([0, 0])\n",
        "i2 = np.array([0, 1])\n",
        "i3 = np.array([1, 0])\n",
        "i4 = np.array([1, 1])\n",
        "\n",
        "print(\"NAND gate:\")\n",
        "print(\"x1 x2 -  y\")\n",
        "print(\"0   0 - \",AndFun(i1))\n",
        "print(\"0   1 - \",AndFun(i2))\n",
        "print(\"1   0 - \",AndFun(i3))\n",
        "print(\"1   1 - \",AndFun(i4))\n"
      ],
      "metadata": {
        "colab": {
          "base_uri": "https://localhost:8080/"
        },
        "id": "vg-2rfmTIUjd",
        "outputId": "d9f20e2f-f6f9-42f7-ef2f-94c6df791e07"
      },
      "execution_count": null,
      "outputs": [
        {
          "output_type": "stream",
          "name": "stdout",
          "text": [
            "NAND gate:\n",
            "x1 x2 -  y\n",
            "0   0 -  1\n",
            "0   1 -  1\n",
            "1   0 -  1\n",
            "1   1 -  0\n"
          ]
        }
      ]
    },
    {
      "cell_type": "markdown",
      "source": [
        "1. AND"
      ],
      "metadata": {
        "id": "E8Skr9OufBy5"
      }
    },
    {
      "cell_type": "code",
      "source": [
        "def thresholdFun(t):\n",
        "  if t>=2:\n",
        "    return 1\n",
        "  else:\n",
        "    return 0\n",
        "\n",
        "def MP(x,w):\n",
        "  t=np.dot(w,x)\n",
        "  y=thresholdFun(t)\n",
        "  return y\n",
        "\n",
        "def AndFun(x):\n",
        "  w=np.array([1,1])\n",
        "  return MP(x,w)\n",
        "\n",
        "\n",
        "i1 = np.array([0, 0])\n",
        "i2 = np.array([0, 1])\n",
        "i3 = np.array([1, 0])\n",
        "i4 = np.array([1, 1])\n",
        "\n",
        "print(\"AND gate:\")\n",
        "print(\"x1 x2 -  y\")\n",
        "print(\"0   0 - \",AndFun(i1))\n",
        "print(\"0   1 - \",AndFun(i2))\n",
        "print(\"1   0 - \",AndFun(i3))\n",
        "print(\"1   1 - \",AndFun(i4))"
      ],
      "metadata": {
        "id": "oAwyylGVIypP",
        "colab": {
          "base_uri": "https://localhost:8080/"
        },
        "outputId": "b2c2e458-693a-46bb-e989-36cc731f7e1d"
      },
      "execution_count": null,
      "outputs": [
        {
          "output_type": "stream",
          "name": "stdout",
          "text": [
            "AND gate:\n",
            "x1 x2 -  y\n",
            "0   0 -  0\n",
            "0   1 -  0\n",
            "1   0 -  0\n",
            "1   1 -  1\n"
          ]
        }
      ]
    }
  ]
}