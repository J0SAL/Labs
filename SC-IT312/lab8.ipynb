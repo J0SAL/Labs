{
  "cells": [
    {
      "cell_type": "markdown",
      "metadata": {
        "id": "view-in-github",
        "colab_type": "text"
      },
      "source": [
        "<a href=\"https://colab.research.google.com/github/J0SAL/Labs/blob/main/SC-IT312/lab8.ipynb\" target=\"_parent\"><img src=\"https://colab.research.google.com/assets/colab-badge.svg\" alt=\"Open In Colab\"/></a>"
      ]
    },
    {
      "cell_type": "markdown",
      "metadata": {
        "id": "-x0cWq5H3ZFH"
      },
      "source": [
        "SC experiment 8"
      ],
      "id": "-x0cWq5H3ZFH"
    },
    {
      "cell_type": "code",
      "source": [
        "!python --version"
      ],
      "metadata": {
        "colab": {
          "base_uri": "https://localhost:8080/"
        },
        "id": "K9IyFVVqGEVY",
        "outputId": "7620ff6e-dfc1-431e-96b2-a3d17f5b270c"
      },
      "id": "K9IyFVVqGEVY",
      "execution_count": 24,
      "outputs": [
        {
          "output_type": "stream",
          "name": "stdout",
          "text": [
            "Python 3.7.13\n"
          ]
        }
      ]
    },
    {
      "cell_type": "code",
      "execution_count": 25,
      "metadata": {
        "id": "BaztKLLT3ZFY"
      },
      "outputs": [],
      "source": [
        "def display(R, S, T):\n",
        "    print('\\t', end='')\n",
        "    for item in ['z'+str(i+1) for i in range(len(S[0]))]:\n",
        "        print(item + '\\t', end='')\n",
        "    print('')\n",
        "    for index, item in enumerate(T):\n",
        "        print('x'+str(index+1), end='\\t')\n",
        "        for j in item:\n",
        "            print('', j, end='\\t')\n",
        "        print('')"
      ],
      "id": "BaztKLLT3ZFY"
    },
    {
      "cell_type": "code",
      "execution_count": 26,
      "metadata": {
        "id": "wOpQrUCn3ZFf"
      },
      "outputs": [],
      "source": [
        "def max_min_composition(R, S):\n",
        "    T = []\n",
        "    for i in range(len(R)):\n",
        "        row = []\n",
        "        for j in range(len(S[i])):\n",
        "            min_ele = []\n",
        "            for k in range(len(S)):\n",
        "                min_ele.append(min(R[i][k], S[k][j]))\n",
        "            row.append(max(min_ele))\n",
        "        T.append(row)\n",
        "\n",
        "    display(R, S ,T)"
      ],
      "id": "wOpQrUCn3ZFf"
    },
    {
      "cell_type": "code",
      "execution_count": 27,
      "metadata": {
        "id": "lMNBmhvX3ZFh"
      },
      "outputs": [],
      "source": [
        "def max_product_composition(R, S):\n",
        "    T = []\n",
        "    for i in range(len(R)):\n",
        "        row = []\n",
        "        for j in range(len(S[i])):\n",
        "            min_ele = []\n",
        "            for k in range(len(S)):\n",
        "                min_ele.append(round(R[i][k] * S[k][j], 2))\n",
        "            row.append(max(min_ele))\n",
        "        T.append(row)\n",
        "\n",
        "    display(R, S ,T)"
      ],
      "id": "lMNBmhvX3ZFh"
    },
    {
      "cell_type": "code",
      "execution_count": 28,
      "metadata": {
        "id": "FtCT4VPA3ZFn"
      },
      "outputs": [],
      "source": [
        "def solve(R, S):\n",
        "  print('R: ', R)\n",
        "  print('S: ', S)\n",
        "  print('\\nMax-Min Composition')\n",
        "  max_min_composition(R, S)\n",
        "  print('\\nMax-Product Composition')\n",
        "  max_product_composition(R, S)\n",
        "  print('\\n')"
      ],
      "id": "FtCT4VPA3ZFn"
    },
    {
      "cell_type": "markdown",
      "source": [
        "principles of softcomputing page 287 example 3"
      ],
      "metadata": {
        "id": "UZxsKJ-vEWNZ"
      },
      "id": "UZxsKJ-vEWNZ"
    },
    {
      "cell_type": "code",
      "execution_count": 29,
      "metadata": {
        "colab": {
          "base_uri": "https://localhost:8080/"
        },
        "id": "fFg7w06K3ZFr",
        "outputId": "7035abef-1365-4156-9abf-b21ecd942715"
      },
      "outputs": [
        {
          "output_type": "stream",
          "name": "stdout",
          "text": [
            "R:  [[0.6, 0.3], [0.2, 0.9]]\n",
            "S:  [[1, 0.5, 0.3], [0.8, 0.4, 0.7]]\n",
            "\n",
            "Max-Min Composition\n",
            "\tz1\tz2\tz3\t\n",
            "x1\t 0.6\t 0.5\t 0.3\t\n",
            "x2\t 0.8\t 0.4\t 0.7\t\n",
            "\n",
            "Max-Product Composition\n",
            "\tz1\tz2\tz3\t\n",
            "x1\t 0.6\t 0.3\t 0.21\t\n",
            "x2\t 0.72\t 0.36\t 0.63\t\n",
            "\n",
            "\n"
          ]
        }
      ],
      "source": [
        "R = [[0.6, 0.3], [0.2, 0.9]] \n",
        "S = [[1, 0.5, 0.3], [0.8, 0.4, 0.7]] \n",
        "solve(R, S)"
      ],
      "id": "fFg7w06K3ZFr"
    },
    {
      "cell_type": "markdown",
      "source": [
        "custom example"
      ],
      "metadata": {
        "id": "iHnaHkLAE5Nl"
      },
      "id": "iHnaHkLAE5Nl"
    },
    {
      "cell_type": "code",
      "source": [
        "R = [[0.22,0.33], [0.44,0.55]]\n",
        "S = [[0.12, 0.23, 0.34], [0.21, 0.32,0.43]]\n",
        "solve(R, S)"
      ],
      "metadata": {
        "colab": {
          "base_uri": "https://localhost:8080/"
        },
        "id": "6fzp6JSOE39P",
        "outputId": "f14cd9ae-ef1c-4a52-d0c9-93eeb8e4cd6c"
      },
      "id": "6fzp6JSOE39P",
      "execution_count": 30,
      "outputs": [
        {
          "output_type": "stream",
          "name": "stdout",
          "text": [
            "R:  [[0.22, 0.33], [0.44, 0.55]]\n",
            "S:  [[0.12, 0.23, 0.34], [0.21, 0.32, 0.43]]\n",
            "\n",
            "Max-Min Composition\n",
            "\tz1\tz2\tz3\t\n",
            "x1\t 0.21\t 0.32\t 0.33\t\n",
            "x2\t 0.21\t 0.32\t 0.43\t\n",
            "\n",
            "Max-Product Composition\n",
            "\tz1\tz2\tz3\t\n",
            "x1\t 0.07\t 0.11\t 0.14\t\n",
            "x2\t 0.12\t 0.18\t 0.24\t\n",
            "\n",
            "\n"
          ]
        }
      ]
    }
  ],
  "metadata": {
    "kernelspec": {
      "display_name": "Python 3",
      "language": "python",
      "name": "python3"
    },
    "language_info": {
      "codemirror_mode": {
        "name": "ipython",
        "version": 3
      },
      "file_extension": ".py",
      "mimetype": "text/x-python",
      "name": "python",
      "nbconvert_exporter": "python",
      "pygments_lexer": "ipython3",
      "version": "3.8.5"
    },
    "colab": {
      "name": "lab8.ipynb",
      "provenance": [],
      "include_colab_link": true
    }
  },
  "nbformat": 4,
  "nbformat_minor": 5
}